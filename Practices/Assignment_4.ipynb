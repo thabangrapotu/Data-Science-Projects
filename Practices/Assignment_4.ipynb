{
  "nbformat": 4,
  "nbformat_minor": 0,
  "metadata": {
    "colab": {
      "provenance": []
    },
    "kernelspec": {
      "name": "python3",
      "display_name": "Python 3"
    },
    "language_info": {
      "name": "python"
    }
  },
  "cells": [
    {
      "cell_type": "markdown",
      "source": [
        "**Problem Statement 1**: In a survey conducted by a non-banking financial company, a sample of 200 customers yielded that x of them were highly satisfied with the timely disbursal of their loans"
      ],
      "metadata": {
        "id": "FwZqwU6CeixU"
      }
    },
    {
      "cell_type": "markdown",
      "source": [
        "1.1 Read an integer input that specifies the number of highly satisfied customers"
      ],
      "metadata": {
        "id": "oVbs5zKjX6lJ"
      }
    },
    {
      "cell_type": "code",
      "execution_count": null,
      "metadata": {
        "id": "GM8VTpPFV7OD"
      },
      "outputs": [],
      "source": [
        "satisfied_customer_number = int(input(\"Enter number of highly satisfied customers:\"))\n",
        "satisfied_customer_number"
      ]
    },
    {
      "cell_type": "markdown",
      "source": [
        "1.2. Calculate an approximate 90% confidence interval for the proportion of the loan customers who are highly satisfied with disbursal time                         •Find out the Margin of Error using scipy.stats.norm.ppf       \n",
        "•Calculate and print the confidence interval values rounded up to five decimal places and separated by a space"
      ],
      "metadata": {
        "id": "zSxEazdkZ9jc"
      }
    },
    {
      "cell_type": "markdown",
      "source": [
        "\n",
        "\n",
        "> claculate the customer proportion - standard deviation\n",
        "\n"
      ],
      "metadata": {
        "id": "3stkVWLYoh0Y"
      }
    },
    {
      "cell_type": "code",
      "source": [
        "import math\n",
        "\n",
        "customers_sample_size = 200\n",
        "\n",
        "# calculate the satisfied customer - proportion\n",
        "satisfied_customer_proportion = satisfied_customer_number / customers_sample_size\n",
        "\n",
        "# calculate the unsatisfied customer - proportion\n",
        "unsatisfied_customer_proportion = 1 - satisfied_customer_proportion\n",
        "\n",
        "# Calcualte the customer proportion - standard Error\n",
        "customer_proportion_SE = math.sqrt(satisfied_customer_proportion * unsatisfied_customer_proportion / customers_sample_size)\n",
        "customer_proportion_SE"
      ],
      "metadata": {
        "id": "6IW3m8CYW4Xa"
      },
      "execution_count": null,
      "outputs": []
    },
    {
      "cell_type": "markdown",
      "source": [
        "> Calculate the 90% confidence interval - critical value using scipy.stats.norm.ppf"
      ],
      "metadata": {
        "id": "9J3I_A_NpLmj"
      }
    },
    {
      "cell_type": "code",
      "source": [
        "import scipy.stats as stats\n",
        "\n",
        "confidence_interval = 0.9\n",
        "\n",
        "# Calcualte the critical value (t score value) of 90% confidence interval\n",
        "critical_value = stats.norm.ppf(1-(1 - confidence_interval)/2)\n",
        "critical_value"
      ],
      "metadata": {
        "id": "leKCAzYipn-3"
      },
      "execution_count": null,
      "outputs": []
    },
    {
      "cell_type": "markdown",
      "source": [
        "> Calculate the 90% confidence interval - margin error"
      ],
      "metadata": {
        "id": "v9DKVtlnpLiy"
      }
    },
    {
      "cell_type": "code",
      "source": [
        "margin_error = critical_value * customer_proportion_SE\n",
        "\n",
        "margin_error"
      ],
      "metadata": {
        "id": "QmHh3I91edgN"
      },
      "execution_count": null,
      "outputs": []
    },
    {
      "cell_type": "markdown",
      "source": [
        "\n",
        "> Calculate and print the confidence interval values rounded up to five decimal places and separated by a space\n",
        "\n"
      ],
      "metadata": {
        "id": "9RXMdTuQzf3U"
      }
    },
    {
      "cell_type": "code",
      "source": [
        "lower_interval_value = satisfied_customer_proportion - margin_error\n",
        "upper_interval_value = satisfied_customer_proportion + margin_error\n",
        "\n",
        "print('confidence interval: '+str(round(lower_interval_value, 5))+\" \"+str(round(upper_interval_value, 5)))"
      ],
      "metadata": {
        "id": "T7l2Gpj80Xh5"
      },
      "execution_count": null,
      "outputs": []
    },
    {
      "cell_type": "markdown",
      "source": [
        "\n",
        "\n",
        "**Problem Statement 2**: A radar unit is used to measure the speeds of cars on a motorway. The speeds are normally distributed with a mean of 75 km/hr and a standard deviation of 15 km/hr"
      ],
      "metadata": {
        "id": "PfXRKWOHBMW7"
      }
    },
    {
      "cell_type": "markdown",
      "source": [
        "\n",
        "Find the probability that a car picked at random is traveling at more than X km/hr•Take the speedXas an input•Printthe probability value rounded up tofour decimal places\n",
        "\n"
      ],
      "metadata": {
        "id": "OjM8vwqQB0O7"
      }
    },
    {
      "cell_type": "markdown",
      "source": [
        "\n",
        "\n",
        "> Take the speed X as an input\n",
        "\n"
      ],
      "metadata": {
        "id": "99AdN0JVDPRQ"
      }
    },
    {
      "cell_type": "code",
      "source": [
        "speed_x = int(input(\"Enter the speed to observe its probability:\"))"
      ],
      "metadata": {
        "id": "NKxdGqayBmOD"
      },
      "execution_count": null,
      "outputs": []
    },
    {
      "cell_type": "markdown",
      "source": [
        "\n",
        "\n",
        "> Print the probability value rounded up to four decimal\n",
        "places\n",
        "\n"
      ],
      "metadata": {
        "id": "wbnf_ZktDhjq"
      }
    },
    {
      "cell_type": "code",
      "source": [
        "speed_x_mean = 75\n",
        "speed_x_sd = 15\n",
        "\n",
        "speed_x_probability = 1-stats.norm.cdf(speed_x, loc = speed_x_mean, scale = speed_x_sd)\n",
        "speed_x_probability = round(speed_x_probability, 4)\n",
        "print(f\"The probability of {speed_x} km/hr is: {speed_x_probability}\")"
      ],
      "metadata": {
        "id": "mRmbpPzVDng3"
      },
      "execution_count": null,
      "outputs": []
    },
    {
      "cell_type": "markdown",
      "source": [
        "**Problem Statement 3**: Write a Python program to load\n",
        "the “kerala.csv”data into a DataFrame and perform the following tasks:"
      ],
      "metadata": {
        "id": "CyKoxm4cmYMe"
      }
    },
    {
      "cell_type": "markdown",
      "source": [
        "\n",
        "\n",
        "Load the “kerala.csv”data into a DataFrame\n",
        "\n",
        "\n",
        "\n",
        "\n",
        "\n",
        "\n",
        "\n"
      ],
      "metadata": {
        "id": "R6ubUvh2siRx"
      }
    },
    {
      "cell_type": "code",
      "source": [
        "import pandas as pd\n",
        "\n",
        "url = \"https://raw.githubusercontent.com/amandp13/Flood-Prediction-Model/2d0421afcfdc0beb5ffc533c76f65b8376d38551/kerala.csv\"\n",
        "\n",
        "df = pd.read_csv(url)\n",
        "\n",
        "df.head()"
      ],
      "metadata": {
        "id": "6txmT1nRp-TO"
      },
      "execution_count": null,
      "outputs": []
    },
    {
      "cell_type": "markdown",
      "source": [
        "\n",
        "\n",
        "June and July are the peak months of rainfall. Consider that if it rains more than 500mm, then chances of flood become more;\n",
        "\n",
        "**1.create a Datarame with columns –“YEAR”, “JUN_GT_500”(Contains a boolean value to show whether it rained more than 500 mm in the month of June), “JUL_GT_500”(Contains a boolean value to show whether it rained more than 500 mm in the month of July),and “FLOODS”(Contains a boolean value to show whether it flooded that year)**\n",
        "\n",
        "\n",
        "\n",
        "\n",
        "\n"
      ],
      "metadata": {
        "id": "Y2x1IY_ln4d2"
      }
    },
    {
      "cell_type": "code",
      "source": [
        "df_jun_jul = pd.DataFrame()\n",
        "\n",
        "df_jun_jul[['YEAR', 'JUN_GT_500', 'JUL_GT_500', 'FLOODS']] = df[['YEAR', 'JUN', 'JUL', 'FLOODS']]\n",
        "\n",
        "\n",
        "for i in range(len(df_jun_jul)):\n",
        "  if df_jun_jul.at[i, 'JUN_GT_500'] > 500:\n",
        "    df_jun_jul.at[i, 'JUN_GT_500'] = 1\n",
        "  else:\n",
        "    df_jun_jul.at[i, 'JUN_GT_500'] = 0\n",
        "\n",
        "  if df_jun_jul.at[i, 'JUL_GT_500'] > 500:\n",
        "    df_jun_jul.at[i, 'JUL_GT_500'] = 1\n",
        "  else:\n",
        "    df_jun_jul.at[i, 'JUL_GT_500'] = 0\n",
        "\n",
        "  if df_jun_jul.at[i, 'FLOODS'] == 'YES':\n",
        "    df_jun_jul.at[i, 'FLOODS'] = 1\n",
        "  else:\n",
        "    df_jun_jul.at[i, 'FLOODS'] = 0\n",
        "\n",
        "df_jun_jul.head()"
      ],
      "metadata": {
        "id": "1LkoI0KXEnWM"
      },
      "execution_count": null,
      "outputs": []
    },
    {
      "cell_type": "markdown",
      "source": [
        "Test\n",
        "**1.Explore the DataFrame using info()and describe()functions**\n",
        "\n"
      ],
      "metadata": {
        "id": "tvK06i4-nrh9"
      }
    },
    {
      "cell_type": "code",
      "source": [
        "df_jun_jul.info()\n",
        "\n",
        "df_jun_jul.describe()"
      ],
      "metadata": {
        "id": "64RC1mWizUgC"
      },
      "execution_count": null,
      "outputs": []
    },
    {
      "cell_type": "markdown",
      "source": [
        "\n",
        "**2. Calculate the probability of flood given it rained more than 500 mm in June (P(A|B))**\n",
        "\n"
      ],
      "metadata": {
        "id": "kkgYsZS3o4Xg"
      }
    },
    {
      "cell_type": "markdown",
      "source": [
        "Step 1: Calulate the sample size"
      ],
      "metadata": {
        "id": "xK8gqkbPlHH8"
      }
    },
    {
      "cell_type": "code",
      "source": [
        "x_size = len(df)\n",
        "x_size"
      ],
      "metadata": {
        "id": "VX2tlgQV1fUt"
      },
      "execution_count": null,
      "outputs": []
    },
    {
      "cell_type": "markdown",
      "source": [
        "Step 2: Calculate the count of rain more than 500mm in june"
      ],
      "metadata": {
        "id": "_Xf_p8Dlpedy"
      }
    },
    {
      "cell_type": "code",
      "source": [
        "june_count = df_jun_jul[df_jun_jul.JUN_GT_500 == 1].JUN_GT_500.count()\n",
        "june_count"
      ],
      "metadata": {
        "id": "yCQa3oYapiu8"
      },
      "execution_count": null,
      "outputs": []
    },
    {
      "cell_type": "markdown",
      "source": [
        "Step 3: Calculate the probability of more than 500mm rain in june"
      ],
      "metadata": {
        "id": "8KRKvZr-uad8"
      }
    },
    {
      "cell_type": "code",
      "source": [
        "probability_june = june_count/x_size\n",
        "probability_june"
      ],
      "metadata": {
        "id": "PNaUC2-eunDl"
      },
      "execution_count": null,
      "outputs": []
    },
    {
      "cell_type": "markdown",
      "source": [
        "Step 4: Calculate the count of rain more than 500mm and flood in june"
      ],
      "metadata": {
        "id": "m8lZ0_3VwA3f"
      }
    },
    {
      "cell_type": "code",
      "source": [
        "flood_rain_count = df_jun_jul[(df_jun_jul.FLOODS == 1) & (df_jun_jul.JUN_GT_500 == 1)].FLOODS.count()\n",
        "flood_rain_count"
      ],
      "metadata": {
        "id": "Ck9O01ogwOrp"
      },
      "execution_count": null,
      "outputs": []
    },
    {
      "cell_type": "markdown",
      "source": [
        "Step 5: Calculate the probability of rain more than 500mm and flood in june"
      ],
      "metadata": {
        "id": "uF5lDw2Eu_v3"
      }
    },
    {
      "cell_type": "code",
      "source": [
        "prob_flood_rain = flood_rain_count/x_size\n",
        "prob_flood_rain"
      ],
      "metadata": {
        "id": "j_T-pwfDviYB"
      },
      "execution_count": null,
      "outputs": []
    },
    {
      "cell_type": "markdown",
      "source": [
        "Step 6: Calculate the probability of flood given it rained more than 500 mm in June"
      ],
      "metadata": {
        "id": "-9giMZgky7oq"
      }
    },
    {
      "cell_type": "code",
      "source": [
        "prob_flood_given_rain = prob_flood_rain/probability_june\n",
        "prob_flood_rain"
      ],
      "metadata": {
        "id": "8FQvcd6ey-u9"
      },
      "execution_count": null,
      "outputs": []
    },
    {
      "cell_type": "markdown",
      "source": [
        "\n",
        "\n",
        "**3. Calculate the probability of rain more than 500 mm in June,given it flooded that year (P(B|A))**\n",
        "\n"
      ],
      "metadata": {
        "id": "LLTyIBi2pNjM"
      }
    },
    {
      "cell_type": "markdown",
      "source": [
        "step 1: Calculate the number of times the flood occured"
      ],
      "metadata": {
        "id": "pwM2r_OVwWqb"
      }
    },
    {
      "cell_type": "code",
      "source": [
        "flood_counts = df_jun_jul[df_jun_jul.FLOODS == 1].FLOODS.count()\n",
        "flood_counts"
      ],
      "metadata": {
        "id": "H-KQcSTLxQ_A"
      },
      "execution_count": null,
      "outputs": []
    },
    {
      "cell_type": "markdown",
      "source": [
        "Step 2: Calculate the probability that the flood occured"
      ],
      "metadata": {
        "id": "_W2BR8RI6J57"
      }
    },
    {
      "cell_type": "code",
      "source": [
        "prob_flood = flood_counts/x_size\n",
        "prob_flood"
      ],
      "metadata": {
        "id": "x91BqdBT6y3_"
      },
      "execution_count": null,
      "outputs": []
    },
    {
      "cell_type": "markdown",
      "source": [
        "step 3: Calculate the number of acurrences where rain in june is more than 500mm and flood occurs that year"
      ],
      "metadata": {
        "id": "rD_B4lDT7Cqa"
      }
    },
    {
      "cell_type": "code",
      "source": [
        "rain_flood_count = df_jun_jul[(df_jun_jul.JUN_GT_500 == 1) & (df_jun_jul.FLOODS == 1)].JUN_GT_500.count()\n",
        "rain_flood_count"
      ],
      "metadata": {
        "id": "pXmATByF7m_6"
      },
      "execution_count": null,
      "outputs": []
    },
    {
      "cell_type": "markdown",
      "source": [
        "step 4: Calculate the probability of rain in june is more than 500 mm and flood occurs that year"
      ],
      "metadata": {
        "id": "bPJSX4xK9cgL"
      }
    },
    {
      "cell_type": "code",
      "source": [
        "prob_rain_flood = rain_flood_count/x_size\n",
        "prob_rain_flood"
      ],
      "metadata": {
        "id": "jwiBnwOg-GAo"
      },
      "execution_count": null,
      "outputs": []
    },
    {
      "cell_type": "markdown",
      "source": [
        "Step 5: Calulate the probability it rain more than 500 mm given it flooded that year."
      ],
      "metadata": {
        "id": "cJ_ZNwtv-kQ8"
      }
    },
    {
      "cell_type": "code",
      "source": [
        "prob_rain_given_flood = prob_rain_flood/prob_flood\n",
        "prob_rain_flood"
      ],
      "metadata": {
        "id": "ECcm0YTLCjCM"
      },
      "execution_count": null,
      "outputs": []
    },
    {
      "cell_type": "markdown",
      "source": [
        "**4. Probability of flood given it rained more than 500 mm in July**\n",
        "\n"
      ],
      "metadata": {
        "id": "uzmn5SKApiO2"
      }
    },
    {
      "cell_type": "markdown",
      "source": [
        "Step 1: Calculate the number of times it rain more 500 mm in July"
      ],
      "metadata": {
        "id": "0EDLw3w0xb0T"
      }
    },
    {
      "cell_type": "code",
      "source": [
        "rain_count = df_jun_jul[df_jun_jul.JUL_GT_500 == 1].JUL_GT_500.count()\n",
        "rain_count"
      ],
      "metadata": {
        "id": "M57K8lzL-fUf"
      },
      "execution_count": null,
      "outputs": []
    },
    {
      "cell_type": "markdown",
      "source": [
        "Step 2: Calculate the probability that it rains more than 500 mm in July"
      ],
      "metadata": {
        "id": "GzEp2EjI9MFF"
      }
    },
    {
      "cell_type": "code",
      "source": [
        "prob_rain = rain_count/x_size\n",
        "prob_rain"
      ],
      "metadata": {
        "id": "qD5_4P3y-gJy"
      },
      "execution_count": null,
      "outputs": []
    },
    {
      "cell_type": "markdown",
      "source": [
        "Step 3: Calculate the number of times it rain more than 500 mm in July and it flood in that year"
      ],
      "metadata": {
        "id": "7h_S6fWR9dTf"
      }
    },
    {
      "cell_type": "code",
      "source": [
        "rain_flood_count = df_jun_jul[(df_jun_jul.JUL_GT_500 == 1) & (df_jun_jul.FLOODS == 1)].FLOODS.count()\n",
        "rain_flood_count"
      ],
      "metadata": {
        "id": "UdgSXRwB-iE4"
      },
      "execution_count": null,
      "outputs": []
    },
    {
      "cell_type": "markdown",
      "source": [
        "Step 4: Calculate the probability that it rain more than 500 mm in July and it flood in that year"
      ],
      "metadata": {
        "id": "TSD7SJyE9uSR"
      }
    },
    {
      "cell_type": "code",
      "source": [
        "prob_rain_flood = rain_flood_count/x_size\n",
        "prob_rain_flood"
      ],
      "metadata": {
        "id": "mvrXm-MW-jVu"
      },
      "execution_count": null,
      "outputs": []
    },
    {
      "cell_type": "markdown",
      "source": [
        "Step 5: Calculate the probability of flood given it rained more than 500 mm in July"
      ],
      "metadata": {
        "id": "4_h5aBiA-PER"
      }
    },
    {
      "cell_type": "code",
      "source": [
        "prob_flood_given_rain = prob_rain_flood/prob_rain\n",
        "prob_flood_given_rain"
      ],
      "metadata": {
        "id": "myTMJVGn-kJ0"
      },
      "execution_count": null,
      "outputs": []
    },
    {
      "cell_type": "markdown",
      "source": [
        "\n",
        "\n",
        "**5. Probability of rain more than 500 mm in July given it flooded that year (P(B|A))**\n",
        "\n"
      ],
      "metadata": {
        "id": "d54fw1H9ps3A"
      }
    },
    {
      "cell_type": "markdown",
      "source": [
        "Step 1: Calculate the number of times it flooded"
      ],
      "metadata": {
        "id": "6A8WuB2HEslS"
      }
    },
    {
      "cell_type": "code",
      "source": [
        "flooded_count = df_jun_jul[df_jun_jul.FLOODS == 1].FLOODS.count()\n",
        "flooded_count"
      ],
      "metadata": {
        "id": "sZH9GJmEEw5Z"
      },
      "execution_count": null,
      "outputs": []
    },
    {
      "cell_type": "markdown",
      "source": [
        "Step 2: Calculate the probability that it flooded"
      ],
      "metadata": {
        "id": "bA-tTrzAEtMW"
      }
    },
    {
      "cell_type": "code",
      "source": [
        "prob_flooded = flooded_count / x_size\n",
        "prob_flooded"
      ],
      "metadata": {
        "id": "kC4taiWbEx5j"
      },
      "execution_count": null,
      "outputs": []
    },
    {
      "cell_type": "markdown",
      "source": [
        "Step 3: Calculate the number of times it rain more than 500 mm in July and it flooded that year"
      ],
      "metadata": {
        "id": "QJce95K9Etlo"
      }
    },
    {
      "cell_type": "code",
      "source": [
        "rain_flooded_count = df_jun_jul[(df_jun_jul.JUL_GT_500 == 1) & (df_jun_jul.FLOODS == 1)].JUL_GT_500.count()\n",
        "rain_flooded_count"
      ],
      "metadata": {
        "id": "ppl3nhWdEyvA"
      },
      "execution_count": null,
      "outputs": []
    },
    {
      "cell_type": "markdown",
      "source": [
        "Step 4: Calculate the probability it rain more than 500 mm in July and it flooded that year"
      ],
      "metadata": {
        "id": "szrxPR6AEuBd"
      }
    },
    {
      "cell_type": "code",
      "source": [
        "prob_rain_flooded = rain_flooded_count / x_size\n",
        "prob_rain_flooded"
      ],
      "metadata": {
        "id": "PsRcWhJBEz2A"
      },
      "execution_count": null,
      "outputs": []
    },
    {
      "cell_type": "markdown",
      "source": [
        "Step 5: Calculate the probability that it rain more than 500 mm in July given it flooded that year"
      ],
      "metadata": {
        "id": "vFdA9OLdEukd"
      }
    },
    {
      "cell_type": "code",
      "source": [
        "prob_rain_given_flooded = prob_rain_flooded / prob_flooded\n",
        "prob_rain_given_flooded"
      ],
      "metadata": {
        "id": "Y1uYpCJQE0aQ"
      },
      "execution_count": null,
      "outputs": []
    },
    {
      "cell_type": "markdown",
      "source": [
        "**Problem Statement 4**: Write a Python program to load the wine dataset using the Sklearn library to a DataFrame and perform the following tasks from 1-3:"
      ],
      "metadata": {
        "id": "IMrWwDNNaYjq"
      }
    },
    {
      "cell_type": "markdown",
      "source": [
        "Step 1: install scikit-learn (sklearn) library and import the load_wine dataset object"
      ],
      "metadata": {
        "id": "z5IHb5n7mFSa"
      }
    },
    {
      "cell_type": "code",
      "source": [
        "# Install sklearn library\n",
        "!pip install sklearn\n",
        "\n",
        "# Import load wine from sklearn.datasets module\n",
        "from sklearn.datasets import load_wine"
      ],
      "metadata": {
        "id": "BkANblQrmtzO"
      },
      "execution_count": null,
      "outputs": []
    },
    {
      "cell_type": "markdown",
      "source": [
        "Step 2: Load the wine data set"
      ],
      "metadata": {
        "id": "ejzNFs_ontwt"
      }
    },
    {
      "cell_type": "code",
      "source": [
        "wine_data = load_wine()"
      ],
      "metadata": {
        "id": "_70eLIX2oEXp"
      },
      "execution_count": null,
      "outputs": []
    },
    {
      "cell_type": "markdown",
      "source": [
        "**1.** Convert the data set into Data Frame using pandas."
      ],
      "metadata": {
        "id": "T7LTJurdri9o"
      }
    },
    {
      "cell_type": "code",
      "source": [
        "import pandas as pd\n",
        "df = pd.DataFrame(data = wine_data.data,columns=wine_data.feature_names)\n",
        "# df['target'] = wine_data.target\n",
        "df.head()"
      ],
      "metadata": {
        "id": "wS6jTPgurq2P"
      },
      "execution_count": null,
      "outputs": []
    },
    {
      "cell_type": "markdown",
      "source": [
        "**2.** Generate the sample size of 50 and give a random state as 100."
      ],
      "metadata": {
        "id": "pnEkGiS-rs5E"
      }
    },
    {
      "cell_type": "code",
      "source": [
        "import numpy as np\n",
        "\n",
        "# Set the random seed for reproducibility\n",
        "np.random.seed(100)\n",
        "\n",
        "# Generate a sample of size 50 from the DataFrame\n",
        "sample_size = 50\n",
        "rand_sample = df.sample(sample_size)\n",
        "\n",
        "rand_sample.head()\n"
      ],
      "metadata": {
        "id": "JRCDBWsV4RRA"
      },
      "execution_count": null,
      "outputs": []
    },
    {
      "cell_type": "markdown",
      "source": [
        "**3.** Calculate Z-critical, Margin of Error,andConfidence Interval for alcohol at 95% significance interval on generated sample data."
      ],
      "metadata": {
        "id": "0Ye67rKQsco0"
      }
    },
    {
      "cell_type": "markdown",
      "source": [
        "Step 1: Calculate the one tailored Z-critical value for alcohol at 95% significance interval on generated sample data"
      ],
      "metadata": {
        "id": "5UBkIGQCC8vo"
      }
    },
    {
      "cell_type": "code",
      "source": [
        "import scipy.stats as stats\n",
        "\n",
        "z_critical_value = stats.norm.ppf(1-(1-0.95))\n",
        "z_critical_value"
      ],
      "metadata": {
        "id": "nBfJ7A_8EVCr"
      },
      "execution_count": null,
      "outputs": []
    },
    {
      "cell_type": "markdown",
      "source": [
        "Step 2: Calculate the Margin of Error for alcohol at 95% significance interval on generated sample dataon generated sample data"
      ],
      "metadata": {
        "id": "kVnE1aMHC9g-"
      }
    },
    {
      "cell_type": "code",
      "source": [
        "# import math sqrt function\n",
        "from math import sqrt\n",
        "\n",
        "# Calculate the mean and standard deviation of the alcohol\n",
        "sample_mean = rand_sample['alcohol'].mean()\n",
        "population_std = rand_sample['alcohol'].std()\n",
        "\n",
        "\n",
        "\n",
        "# calculate the standard Error of the alcohol\n",
        "sample_standard_error = population_std/sqrt(sample_size)\n",
        "print(\"f sample_standard_error:  {sample_standard_error}\")\n",
        "\n",
        "# Calculate the margin of error of alcohol at 95% confidence interval\n",
        "margin_of_error = z_critical_value * sample_standard_error\n",
        "margin_of_error"
      ],
      "metadata": {
        "id": "HwezJpTvEWae"
      },
      "execution_count": null,
      "outputs": []
    },
    {
      "cell_type": "markdown",
      "source": [
        "Step 3: Calculate Confidence Interval for alcohol at 95% significance interval on generated sample data"
      ],
      "metadata": {
        "id": "UThBSz_dC_Fm"
      }
    },
    {
      "cell_type": "code",
      "source": [
        "confidence_interval = f\"{sample_mean - margin_of_error}, {sample_mean + margin_of_error}\"\n",
        "confidence_interval"
      ],
      "metadata": {
        "id": "KwHcrx6XEXzi"
      },
      "execution_count": null,
      "outputs": []
    }
  ]
}