{
  "nbformat": 4,
  "nbformat_minor": 0,
  "metadata": {
    "colab": {
      "provenance": [],
      "authorship_tag": "ABX9TyOSxSARn6kWptwzk5SjhOdT"
    },
    "kernelspec": {
      "name": "python3",
      "display_name": "Python 3"
    },
    "language_info": {
      "name": "python"
    }
  },
  "cells": [
    {
      "cell_type": "markdown",
      "source": [
        "## Solving Problem statement 1:\n",
        "Write a Python program to multiply a 𝑀 × 𝑁 matrix by 𝑁 × 𝐴 matrix and\n",
        "create a real matrix product."
      ],
      "metadata": {
        "id": "BqMnUgWBdd5x"
      }
    },
    {
      "cell_type": "code",
      "execution_count": null,
      "metadata": {
        "id": "dC8nY9Vx3dvl",
        "colab": {
          "base_uri": "https://localhost:8080/"
        },
        "outputId": "8f9b4336-a14f-42ca-d816-e81ebf343da2"
      },
      "outputs": [
        {
          "output_type": "stream",
          "name": "stdout",
          "text": [
            "Hi user, this program multiply a M × N matrix by N × A atrix and create a real matrix product\n",
            "Enter the value of M, N and A (m n a): 2 3 4\n",
            "Enter the list elements of  matrix M x N (2,3) and seperate each element with a space, and press enter key to enter next row elements:\n",
            "7.984984987 7.989857874 3.74848744\n",
            "0.7848787843 8.983747847 9.4787487833\n",
            "First Array:\n",
            "[[7.98498499 7.98985787 3.74848744]\n",
            " [0.78487878 8.98374785 9.47874878]]\n",
            "Enter the list elements of  matrix M x N (3,4) and seperate each element with a space, and press enter key to enter next row elements:\n",
            "7.8737878448 9.78476376 9.0903847438 8.8778433674\n",
            "7.87374674674 8.48947874878372873 6.7878788878 8.8937487374\n",
            "8.8773474676 7.784783784784 6.74874837847 5.747874878378748\n",
            "Second Array:\n",
            "[[7.87378784 9.78476376 9.09038474 8.87784337]\n",
            " [7.87374675 8.48947875 6.78787889 8.89374874]\n",
            " [8.87734747 7.78478378 6.74874838 5.74787488]]\n",
            "Dot product of two arrays:\n",
            "[[159.05882066 175.14208459 152.11837182 163.49507117]\n",
            " [161.06187092 157.73719974 132.08513295 141.34988899]]\n"
          ]
        }
      ],
      "source": [
        "# Importing the python array and system library\n",
        "import numpy as np\n",
        "import os\n",
        "\n",
        "def matrix_product(arr_first, arr_second):\n",
        "    # Compute the matrix product of M x N and A x M using numpy.dot\n",
        "    result = np.dot(arr_first, arr_second)\n",
        "    return result\n",
        "\n",
        "\n",
        "# Get the elements of matrix M x N\n",
        "def create_array(rows_length,cols_length):\n",
        "    arr_shape = str(rows_length)+\",\"+ str(cols_length)\n",
        "    listA = []\n",
        "    for i in range(rows_length):\n",
        "          row = list(map(np.float64,input().split()))\n",
        "          listA.append(row)\n",
        "    arr_frst = np.array(listA)\n",
        "\n",
        "\n",
        "   #Check if array size entered equal to M x N\n",
        "    if arr_frst.ndim  == 2 and arr_frst.shape == (rows_length,cols_length):\n",
        "      return(arr_frst)\n",
        "    else:\n",
        "      return(np.array([\"Error occured\"]))\n",
        "\n",
        "#Welcome message\n",
        "username = \"\"\n",
        "try:\n",
        "  #  Retrieve user name from the local system\n",
        "  username = os.getlogin()\n",
        "except:\n",
        "  username = \"user\"\n",
        "print(\"Hi \"+username+\", this program multiply a M × N matrix by N × A atrix and create a real matrix product\")\n",
        "\n",
        "# Get the size of matrix M x N and N x A\n",
        "rows_m, rows_n, col_a = map(int, input(\"Enter the value of M, N and A (m n a): \").split())\n",
        "arr_shape = str(rows_m) +\",\"+str(rows_n)\n",
        "\n",
        "# Enter the first matrix\n",
        "print(\"Enter the list elements of  matrix M x N (\"+arr_shape+\"), and seperate row elements by a space. To enter next row elements, press a key enter :\")\n",
        "first_arr = create_array(rows_m,rows_n)\n",
        "\n",
        "# Print the first matrix if no error\n",
        "if first_arr.dtype != float:\n",
        "  raise Exception(\"You suppose to enter array with same size you entered previously. i.e Your previouse entered array shape: \"+arr_shape)\n",
        "print(\"First Array:\")\n",
        "print(first_arr)\n",
        "\n",
        "# Enter the second matrix\n",
        "arr_shape = str(rows_n) +\",\"+str(col_a)\n",
        "print(\"Enter the list elements of  matrix M x N (\"+arr_shape+\"), and seperate row elements by a space. To enter next row elements, press a key enter :\")\n",
        "second_arr = create_array(rows_n,col_a)\n",
        "\n",
        "# Print the second matrix if no error\n",
        "if second_arr.dtype != float:\n",
        "  raise Exception(\"You suppose to enter array with same size you entered previously. i.e Your previouse entered array shape: \"+arr_shape)\n",
        "print(\"Second Array:\")\n",
        "print(second_arr)\n",
        "\n",
        "# Print the dot product of the two arrays (First and Second array)\n",
        "print(\"Dot product of two arrays:\")\n",
        "arr_product = matrix_product(first_arr,second_arr)\n",
        "print(arr_product)"
      ]
    },
    {
      "cell_type": "markdown",
      "source": [
        "# Solving Problem statement 2\n",
        "Write a NumPy program to check if each element of an array of your choice is composed of digits, lower case letters, and upper case letters only.\n",
        "Hint: You can use isdigit(),islower(), and isupper() function."
      ],
      "metadata": {
        "id": "6HZhdUUqdlcH"
      }
    },
    {
      "cell_type": "code",
      "source": [
        "# Importing the python array and system library\n",
        "import numpy as np\n",
        "import os\n",
        "\n",
        "# Welcome Message\n",
        "username = \"\"\n",
        "try:\n",
        "  #  Retrieve user name from the local system\n",
        "  username = os.getlogin()\n",
        "except:\n",
        "  username = \"user\"\n",
        "print(\"Hi \"+username+\", this program check if each element of an array of your choice is composed of digits, lower case letters, and upper case letters only\")\n",
        "\n",
        "# Ënter the array elements\n",
        "list_a = []\n",
        "while True: # loop until last array elements\n",
        "  element = input(\"Enter an element (-1 to stop, press enter key to continue): \")\n",
        "  if element == \"-1\":\n",
        "    break\n",
        "  list_a.append(element)\n",
        "\n",
        "# Convert the list to array\n",
        "arr = np.array(list_a)\n",
        "\n",
        "# Print the original array and the resulting boolean results (if each element of the array is composed of digits, lowercase letters, and uppercase letters only)\n",
        "print('Input: Original array:', arr)\n",
        "\n",
        "# Determine if the input array is digits only and print the boolean results\n",
        "is_digits = [arr_element.isdigit() for arr_element in arr]\n",
        "print(\"Output: Digits only Boolean results of the above original array strings = \",is_digits)\n",
        "\n",
        "# Determine if the input array is uppercase only and print the boolean results\n",
        "pad_left_len = \"\".ljust(len(\"output\"))\n",
        "is_uppercase = [arr_element.isupper() for arr_element in arr]\n",
        "print(pad_left_len+\": Upper cases only Boolean results of the above original array strings = \",is_uppercase)\n",
        "\n",
        "# Determine if the input array is lowercase only and print the boolean results\n",
        "is_lowercase = [arr_element.islower() for arr_element in arr]\n",
        "print(pad_left_len+\": Lower cases only Boolean results of the above original array strings = \",is_lowercase)"
      ],
      "metadata": {
        "id": "QWtI_CrHXWo5",
        "colab": {
          "base_uri": "https://localhost:8080/"
        },
        "outputId": "f549055b-f0f2-41dc-b163-d5f57c03a77f"
      },
      "execution_count": null,
      "outputs": [
        {
          "output_type": "stream",
          "name": "stdout",
          "text": [
            "Hi user, this program check if each element of an array of your choice is composed of digits, lower case letters, and upper case letters only\n",
            "Enter an element (-1 to stop, press enter key to continue): rytwtyrr6676r76\n",
            "Enter an element (-1 to stop, press enter key to continue): Afgfgdgett566567\n",
            "Enter an element (-1 to stop, press enter key to continue): -273633773dgtftfdt\n",
            "Enter an element (-1 to stop, press enter key to continue): Atret5657\n",
            "Enter an element (-1 to stop, press enter key to continue): adsfrer567\n",
            "Enter an element (-1 to stop, press enter key to continue): AARRT2\n",
            "Enter an element (-1 to stop, press enter key to continue): aaddr3\n",
            "Enter an element (-1 to stop, press enter key to continue): 15623626382\n",
            "Enter an element (-1 to stop, press enter key to continue): -1\n",
            "Input: Original array: ['rytwtyrr6676r76' 'Afgfgdgett566567' '-273633773dgtftfdt' 'Atret5657'\n",
            " 'adsfrer567' 'AARRT2' 'aaddr3' '15623626382']\n",
            "Output: Digits only Boolean results of the above original array strings =  [False, False, False, False, False, False, False, True]\n",
            "      : Upper cases only Boolean results of the above original array strings =  [False, False, False, False, False, True, False, False]\n",
            "      : Lower cases only Boolean results of the above original array strings =  [True, False, True, False, True, False, True, False]\n"
          ]
        }
      ]
    },
    {
      "cell_type": "markdown",
      "source": [
        "# Solve Problem Statement 3\n",
        "Write a program that reads two space-separated positive integers 𝑋 and\n",
        "𝑌 as input and perform the following tasks:\n",
        "Tasks to be performed:\n",
        "1. Create a list (lst1) starting at one (1) with 16 elements at a step of 𝑋\n",
        "2. Create a list (lst2) starting at one (1) with 16 elements at a step of 𝑌\n",
        "3. Create two NumPy arrays np1 and np2 using lst1 and lst2 respectively\n",
        "4. Reshape both the NumPy arrays to (4,4)\n",
        "5. Create a new np array (np3) with values obtained by subtracting both the arrays (np1 -\n",
        "np2)\n",
        "6. Print all the elements of np3 in a single dimension list like the format as shown below:\n",
        "a. [n0 n1 n2 n3 n4 n5 n6 n7 n8]\n",
        "\n"
      ],
      "metadata": {
        "id": "AYqS__3vKvEP"
      }
    },
    {
      "cell_type": "code",
      "source": [
        "# Importing the python array and system library\n",
        "import numpy as np\n",
        "import os\n",
        "\n",
        "# Welcome Message\n",
        "username = \"\"\n",
        "try:\n",
        "  #  Retrieve user name from the local system\n",
        "  username = os.getlogin()\n",
        "except:\n",
        "  username = \"user\"\n",
        "print(\"Hi \"+username+\", this program reads two space-separated positive integers x and y as input and perform few array tasks below\")\n",
        "\n",
        "# Enter two seoerated positive integers\n",
        "int_x, int_y = map(int,input(\"Enter two space-separated positive integers  x and y: \").split())\n",
        "\n",
        "# Create a list (lst1) starting at one (1) with 16 elements at a step of x\n",
        "lst1 = list(range(1,int_x*16 + 1,int_x))\n",
        "\n",
        "# Create a list (lst2) starting at one (1) with 16 elements at a step of y\n",
        "lst2 = list(range(1,int_y*16 + 1,int_y))\n",
        "\n",
        "# Create NumPy array np1 using lst1\n",
        "np1_arr = np.array(lst1)\n",
        "\n",
        "# Create NumPy array np2 using lst2\n",
        "np2_arr = np.array(lst2)\n",
        "\n",
        "# Reshape the NumPy array np1_arr to (4,4)\n",
        "np1_arr_rshape = np1_arr.reshape(4,4)\n",
        "\n",
        "# Reshape the NumPy array np2_arr to (4,4)\n",
        "np2_arr_rshape = np2_arr.reshape(4,4)\n",
        "\n",
        "# Create a new np array (np3) with values obtained by subtracting both the reshaped arrays (np1 -np2)\n",
        "np3_arr = np1_arr_rshape - np2_arr_rshape\n",
        "\n",
        "# Print all the elements of np3 in a single dimension\n",
        "np3_dim = np3_arr.flatten()\n",
        "print(\"Output: One dimensional array from n dimension array:\\n\",np3_dim) # One dimension results from previous two array transformations (2 list with steps -to- 2 array, 2 array -to- 2 reshape array,  2 reshape array -to- difference & difference to 1dim array)\")"
      ],
      "metadata": {
        "id": "KX5NzJEpK2Mo",
        "colab": {
          "base_uri": "https://localhost:8080/"
        },
        "outputId": "7d5c3df0-7a8d-4f51-bfab-a9cbcb3814e8"
      },
      "execution_count": null,
      "outputs": [
        {
          "output_type": "stream",
          "name": "stdout",
          "text": [
            "Hi user, this program reads two space-separated positive integers x and y as input and perform few array tasks\n",
            "Enter two space-separated positive integers  x and y: 2 3\n",
            "Output: One dimensional array from n dimension array:\n",
            " [  0  -1  -2  -3  -4  -5  -6  -7  -8  -9 -10 -11 -12 -13 -14 -15]\n"
          ]
        }
      ]
    },
    {
      "cell_type": "markdown",
      "source": [
        "# Solving Problem Statement 4\n",
        "Write a Python program that takes two integer-NumPy arrays, 𝑃 and 𝑄 of\n",
        "shape [3 ∗ 3] and perform the following task:\n",
        "Task to be performed:\n",
        "Print the element-wise difference of the matrix 𝑃 and 𝑄 (𝑃 − 𝑄)."
      ],
      "metadata": {
        "id": "vYxWKeuvrBPG"
      }
    },
    {
      "cell_type": "code",
      "source": [
        "# Importing the python array and system library\n",
        "import numpy as np\n",
        "import os\n",
        "\n",
        "# Welcome Message\n",
        "username = \"\"\n",
        "try:\n",
        "  #  Retrieve user name from the local system\n",
        "  username = os.getlogin()\n",
        "except:\n",
        "  username = \"user\"\n",
        "print(\"Hi \"+username+\", akes two integer-NumPy arrays, P and Q of shape [3∗3] and performthe few tasks below\")\n",
        "\n",
        "# Enter a (3 * 3) integer-NumPy arrays, P\n",
        "print(\"Enter a (3 * 3) integer-NumPy arrays 'P' (use space to seperate array elements, enter all elements on one line, and press enter key to save)\")\n",
        "list_p = []\n",
        "lst = list(map(int, input().split()))\n",
        "list_p.append(lst) # Create a list\n",
        "matrx_p = np.array(list_p).reshape(3,3) # create array for a list\n",
        "\n",
        "# Enter a (3 * 3) integer-NumPy arrays, Q\n",
        "print(\"Enter a (3 * 3) integer-NumPy arrays 'Q'(use space to seperate array elements, enter all elements on one line, and press enter key to save)\")\n",
        "list_q = []\n",
        "lst = list(map(int, input().split()))\n",
        "list_q.append(lst) # Create a list\n",
        "matrx_q = np.array(list_q).reshape(3,3) # create array for a list\n",
        "\n",
        "# Find the element-wise difference of the matrix P (matrix p) and Q (matrix q)\n",
        "difr_matrx = matrx_p - matrx_q\n",
        "\n",
        "# Print the element-wise difference of the matrix P (matrix p) and Q (matrix q)\n",
        "print(\"Element-wise difference of the matrix P and Q (matrx_p - matrx_q):\\n\",difr_matrx)"
      ],
      "metadata": {
        "colab": {
          "base_uri": "https://localhost:8080/"
        },
        "id": "I7856IiSrK2W",
        "outputId": "cb6da73e-fcd6-483b-edb9-d78f73c1fe7f"
      },
      "execution_count": null,
      "outputs": [
        {
          "output_type": "stream",
          "name": "stdout",
          "text": [
            "Hi user, akes two integer-NumPy arrays, P and Q of shape [3∗3] and performthe few tasks below\n",
            "Enter a (3 * 3) integer-NumPy arrays 'P' (use space to seperate array elements, enter all elements on one line, and press enter key to save)\n",
            "1 2 3 4 5 6 7 8 9\n",
            "Enter a (3 * 3) integer-NumPy arrays 'Q'(use space to seperate array elements, enter all elements on one line, and press enter key to save)\n",
            "2 4 6 8 10 12 14 16 18\n",
            "Element-wise difference of the matrix P and Q (matrx_p - matrx_q):\n",
            " [[-1 -2 -3]\n",
            " [-4 -5 -6]\n",
            " [-7 -8 -9]]\n"
          ]
        }
      ]
    }
  ]
}
