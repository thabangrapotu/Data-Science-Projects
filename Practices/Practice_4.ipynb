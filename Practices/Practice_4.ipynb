{
  "nbformat": 4,
  "nbformat_minor": 0,
  "metadata": {
    "colab": {
      "provenance": []
    },
    "kernelspec": {
      "name": "python3",
      "display_name": "Python 3"
    },
    "language_info": {
      "name": "python"
    }
  },
  "cells": [
    {
      "cell_type": "markdown",
      "source": [
        "**Problem Statement 1**: In a survey conducted by a non-banking financial company, a sample of 200 customers yielded that x of them were highly satisfied with the timely disbursal of their loans"
      ],
      "metadata": {
        "id": "FwZqwU6CeixU"
      }
    },
    {
      "cell_type": "markdown",
      "source": [
        "1.1 Read an integer input that specifies the number of highly satisfied customers"
      ],
      "metadata": {
        "id": "oVbs5zKjX6lJ"
      }
    },
    {
      "cell_type": "code",
      "execution_count": 33,
      "metadata": {
        "colab": {
          "base_uri": "https://localhost:8080/"
        },
        "id": "GM8VTpPFV7OD",
        "outputId": "1f2655a5-ea79-4a90-bc79-eee839ab4001"
      },
      "outputs": [
        {
          "name": "stdout",
          "output_type": "stream",
          "text": [
            "Enter number of highly satisfied customers:172\n"
          ]
        },
        {
          "output_type": "execute_result",
          "data": {
            "text/plain": [
              "172"
            ]
          },
          "metadata": {},
          "execution_count": 33
        }
      ],
      "source": [
        "satisfied_customer_number = int(input(\"Enter number of highly satisfied customers:\"))\n",
        "satisfied_customer_number"
      ]
    },
    {
      "cell_type": "markdown",
      "source": [
        "1.2. Calculate an approximate 90% confidence interval for the proportion of the loan customers who are highly satisfied with disbursal time                         •Find out the Margin of Error using scipy.stats.norm.ppf       \n",
        "•Calculate and print the confidence interval values rounded up to five decimal places and separated by a space"
      ],
      "metadata": {
        "id": "zSxEazdkZ9jc"
      }
    },
    {
      "cell_type": "markdown",
      "source": [
        "\n",
        "\n",
        "> claculate the customer proportion - standard deviation\n",
        "\n"
      ],
      "metadata": {
        "id": "3stkVWLYoh0Y"
      }
    },
    {
      "cell_type": "code",
      "source": [
        "import math\n",
        "\n",
        "customers_sample_size = 200\n",
        "\n",
        "# calculate the satisfied customer - proportion\n",
        "satisfied_customer_proportion = satisfied_customer_number / customers_sample_size\n",
        "\n",
        "# calculate the unsatisfied customer - proportion\n",
        "unsatisfied_customer_proportion = 1 - satisfied_customer_proportion\n",
        "\n",
        "# Calcualte the customer proportion - standard Error\n",
        "customer_proportion_SE = math.sqrt(satisfied_customer_proportion * unsatisfied_customer_proportion / customers_sample_size)\n",
        "customer_proportion_SE"
      ],
      "metadata": {
        "colab": {
          "base_uri": "https://localhost:8080/"
        },
        "id": "6IW3m8CYW4Xa",
        "outputId": "0ab03b4a-b1c7-48b4-fa02-a5492bc31706"
      },
      "execution_count": 34,
      "outputs": [
        {
          "output_type": "execute_result",
          "data": {
            "text/plain": [
              "0.024535688292770596"
            ]
          },
          "metadata": {},
          "execution_count": 34
        }
      ]
    },
    {
      "cell_type": "markdown",
      "source": [
        "> Calculate the 90% confidence interval - critical value using scipy.stats.norm.ppf"
      ],
      "metadata": {
        "id": "9J3I_A_NpLmj"
      }
    },
    {
      "cell_type": "code",
      "source": [
        "import scipy.stats as stats\n",
        "\n",
        "confidence_interval = 0.9\n",
        "\n",
        "# Calcualte the critical value (t score value) of 90% confidence interval\n",
        "critical_value = stats.norm.ppf(1-(1 - confidence_interval)/2)\n",
        "critical_value"
      ],
      "metadata": {
        "id": "leKCAzYipn-3",
        "colab": {
          "base_uri": "https://localhost:8080/"
        },
        "outputId": "b6382d7d-8226-4e57-c15c-4055533f6830"
      },
      "execution_count": 35,
      "outputs": [
        {
          "output_type": "execute_result",
          "data": {
            "text/plain": [
              "1.6448536269514722"
            ]
          },
          "metadata": {},
          "execution_count": 35
        }
      ]
    },
    {
      "cell_type": "markdown",
      "source": [
        "> Calculate the 90% confidence interval - margin error"
      ],
      "metadata": {
        "id": "v9DKVtlnpLiy"
      }
    },
    {
      "cell_type": "code",
      "source": [
        "margin_error = critical_value * customer_proportion_SE\n",
        "\n",
        "margin_error"
      ],
      "metadata": {
        "id": "QmHh3I91edgN",
        "colab": {
          "base_uri": "https://localhost:8080/"
        },
        "outputId": "b53ec381-5e6b-49a7-f1a8-d074b516424d"
      },
      "execution_count": 36,
      "outputs": [
        {
          "output_type": "execute_result",
          "data": {
            "text/plain": [
              "0.04035761587811449"
            ]
          },
          "metadata": {},
          "execution_count": 36
        }
      ]
    },
    {
      "cell_type": "markdown",
      "source": [
        "\n",
        "> Calculate and print the confidence interval values rounded up to five decimal places and separated by a space\n",
        "\n"
      ],
      "metadata": {
        "id": "9RXMdTuQzf3U"
      }
    },
    {
      "cell_type": "code",
      "source": [
        "lower_interval_value = satisfied_customer_proportion - margin_error\n",
        "upper_interval_value = satisfied_customer_proportion + margin_error\n",
        "\n",
        "print('confidence interval: '+str(round(lower_interval_value, 5))+\" \"+str(round(upper_interval_value, 5)))"
      ],
      "metadata": {
        "colab": {
          "base_uri": "https://localhost:8080/"
        },
        "id": "T7l2Gpj80Xh5",
        "outputId": "72a907d8-e874-4f98-c60e-c8205938ebae"
      },
      "execution_count": 37,
      "outputs": [
        {
          "output_type": "stream",
          "name": "stdout",
          "text": [
            "confidence interval: 0.81964 0.90036\n"
          ]
        }
      ]
    },
    {
      "cell_type": "markdown",
      "source": [
        "\n",
        "\n",
        "**Problem Statement 2**: A radar unit is used to measure the speeds of cars on a motorway. The speeds are normally distributed with a mean of 75 km/hr and a standard deviation of 15 km/hr"
      ],
      "metadata": {
        "id": "PfXRKWOHBMW7"
      }
    },
    {
      "cell_type": "markdown",
      "source": [
        "\n",
        "Find the probability that a car picked at random is traveling at more than X km/hr•Take the speedXas an input•Printthe probability value rounded up tofour decimal places\n",
        "\n"
      ],
      "metadata": {
        "id": "OjM8vwqQB0O7"
      }
    },
    {
      "cell_type": "markdown",
      "source": [
        "\n",
        "\n",
        "> Take the speed X as an input\n",
        "\n"
      ],
      "metadata": {
        "id": "99AdN0JVDPRQ"
      }
    },
    {
      "cell_type": "code",
      "source": [
        "speed_x = int(input(\"Enter the speed to observe its probability:\"))"
      ],
      "metadata": {
        "colab": {
          "base_uri": "https://localhost:8080/"
        },
        "id": "NKxdGqayBmOD",
        "outputId": "af6a29c8-6061-46b8-fe1a-a5e5cd8d1919"
      },
      "execution_count": 38,
      "outputs": [
        {
          "name": "stdout",
          "output_type": "stream",
          "text": [
            "Enter the speed to observe its probability:100\n"
          ]
        }
      ]
    },
    {
      "cell_type": "markdown",
      "source": [
        "\n",
        "\n",
        "> Print the probability value rounded up to four decimal\n",
        "places\n",
        "\n"
      ],
      "metadata": {
        "id": "wbnf_ZktDhjq"
      }
    },
    {
      "cell_type": "code",
      "source": [
        "speed_x_mean = 75\n",
        "speed_x_sd = 15\n",
        "\n",
        "speed_x_probability = 1-stats.norm.cdf(speed_x, loc = speed_x_mean, scale = speed_x_sd)\n",
        "speed_x_probability = round(speed_x_probability, 4)\n",
        "print(f\"The probability of {speed_x} km/hr is: {speed_x_probability}\")"
      ],
      "metadata": {
        "colab": {
          "base_uri": "https://localhost:8080/"
        },
        "id": "mRmbpPzVDng3",
        "outputId": "705d319c-a71a-448b-b274-6931942ddf59"
      },
      "execution_count": 39,
      "outputs": [
        {
          "output_type": "stream",
          "name": "stdout",
          "text": [
            "The probability of 100 km/hr is: 0.0478\n"
          ]
        }
      ]
    },
    {
      "cell_type": "markdown",
      "source": [
        "**Problem Statement 3**: Write a Python program to load\n",
        "the “kerala.csv”data into a DataFrame and perform the following tasks:"
      ],
      "metadata": {
        "id": "CyKoxm4cmYMe"
      }
    },
    {
      "cell_type": "markdown",
      "source": [
        "\n",
        "\n",
        "Load the “kerala.csv”data into a DataFrame\n",
        "\n",
        "\n",
        "\n",
        "\n",
        "\n",
        "\n",
        "\n"
      ],
      "metadata": {
        "id": "R6ubUvh2siRx"
      }
    },
    {
      "cell_type": "code",
      "source": [
        "import pandas as pd\n",
        "\n",
        "url = \"https://raw.githubusercontent.com/amandp13/Flood-Prediction-Model/2d0421afcfdc0beb5ffc533c76f65b8376d38551/kerala.csv\"\n",
        "\n",
        "df = pd.read_csv(url)\n",
        "\n",
        "df.head()"
      ],
      "metadata": {
        "id": "6txmT1nRp-TO",
        "colab": {
          "base_uri": "https://localhost:8080/",
          "height": 267
        },
        "outputId": "afbec948-946f-4914-c155-fb85c06f4865"
      },
      "execution_count": 40,
      "outputs": [
        {
          "output_type": "execute_result",
          "data": {
            "text/plain": [
              "  SUBDIVISION  YEAR   JAN   FEB   MAR    APR    MAY     JUN     JUL    AUG  \\\n",
              "0      KERALA  1901  28.7  44.7  51.6  160.0  174.7   824.6   743.0  357.5   \n",
              "1      KERALA  1902   6.7   2.6  57.3   83.9  134.5   390.9  1205.0  315.8   \n",
              "2      KERALA  1903   3.2  18.6   3.1   83.6  249.7   558.6  1022.5  420.2   \n",
              "3      KERALA  1904  23.7   3.0  32.2   71.5  235.7  1098.2   725.5  351.8   \n",
              "4      KERALA  1905   1.2  22.3   9.4  105.9  263.3   850.2   520.5  293.6   \n",
              "\n",
              "     SEP    OCT    NOV    DEC   ANNUAL RAINFALL FLOODS  \n",
              "0  197.7  266.9  350.8   48.4            3248.6    YES  \n",
              "1  491.6  358.4  158.3  121.5            3326.6    YES  \n",
              "2  341.8  354.1  157.0   59.0            3271.2    YES  \n",
              "3  222.7  328.1   33.9    3.3            3129.7    YES  \n",
              "4  217.2  383.5   74.4    0.2            2741.6     NO  "
            ],
            "text/html": [
              "\n",
              "\n",
              "  <div id=\"df-70de2ea1-58e5-4c4d-90f3-cc7b8582be3a\">\n",
              "    <div class=\"colab-df-container\">\n",
              "      <div>\n",
              "<style scoped>\n",
              "    .dataframe tbody tr th:only-of-type {\n",
              "        vertical-align: middle;\n",
              "    }\n",
              "\n",
              "    .dataframe tbody tr th {\n",
              "        vertical-align: top;\n",
              "    }\n",
              "\n",
              "    .dataframe thead th {\n",
              "        text-align: right;\n",
              "    }\n",
              "</style>\n",
              "<table border=\"1\" class=\"dataframe\">\n",
              "  <thead>\n",
              "    <tr style=\"text-align: right;\">\n",
              "      <th></th>\n",
              "      <th>SUBDIVISION</th>\n",
              "      <th>YEAR</th>\n",
              "      <th>JAN</th>\n",
              "      <th>FEB</th>\n",
              "      <th>MAR</th>\n",
              "      <th>APR</th>\n",
              "      <th>MAY</th>\n",
              "      <th>JUN</th>\n",
              "      <th>JUL</th>\n",
              "      <th>AUG</th>\n",
              "      <th>SEP</th>\n",
              "      <th>OCT</th>\n",
              "      <th>NOV</th>\n",
              "      <th>DEC</th>\n",
              "      <th>ANNUAL RAINFALL</th>\n",
              "      <th>FLOODS</th>\n",
              "    </tr>\n",
              "  </thead>\n",
              "  <tbody>\n",
              "    <tr>\n",
              "      <th>0</th>\n",
              "      <td>KERALA</td>\n",
              "      <td>1901</td>\n",
              "      <td>28.7</td>\n",
              "      <td>44.7</td>\n",
              "      <td>51.6</td>\n",
              "      <td>160.0</td>\n",
              "      <td>174.7</td>\n",
              "      <td>824.6</td>\n",
              "      <td>743.0</td>\n",
              "      <td>357.5</td>\n",
              "      <td>197.7</td>\n",
              "      <td>266.9</td>\n",
              "      <td>350.8</td>\n",
              "      <td>48.4</td>\n",
              "      <td>3248.6</td>\n",
              "      <td>YES</td>\n",
              "    </tr>\n",
              "    <tr>\n",
              "      <th>1</th>\n",
              "      <td>KERALA</td>\n",
              "      <td>1902</td>\n",
              "      <td>6.7</td>\n",
              "      <td>2.6</td>\n",
              "      <td>57.3</td>\n",
              "      <td>83.9</td>\n",
              "      <td>134.5</td>\n",
              "      <td>390.9</td>\n",
              "      <td>1205.0</td>\n",
              "      <td>315.8</td>\n",
              "      <td>491.6</td>\n",
              "      <td>358.4</td>\n",
              "      <td>158.3</td>\n",
              "      <td>121.5</td>\n",
              "      <td>3326.6</td>\n",
              "      <td>YES</td>\n",
              "    </tr>\n",
              "    <tr>\n",
              "      <th>2</th>\n",
              "      <td>KERALA</td>\n",
              "      <td>1903</td>\n",
              "      <td>3.2</td>\n",
              "      <td>18.6</td>\n",
              "      <td>3.1</td>\n",
              "      <td>83.6</td>\n",
              "      <td>249.7</td>\n",
              "      <td>558.6</td>\n",
              "      <td>1022.5</td>\n",
              "      <td>420.2</td>\n",
              "      <td>341.8</td>\n",
              "      <td>354.1</td>\n",
              "      <td>157.0</td>\n",
              "      <td>59.0</td>\n",
              "      <td>3271.2</td>\n",
              "      <td>YES</td>\n",
              "    </tr>\n",
              "    <tr>\n",
              "      <th>3</th>\n",
              "      <td>KERALA</td>\n",
              "      <td>1904</td>\n",
              "      <td>23.7</td>\n",
              "      <td>3.0</td>\n",
              "      <td>32.2</td>\n",
              "      <td>71.5</td>\n",
              "      <td>235.7</td>\n",
              "      <td>1098.2</td>\n",
              "      <td>725.5</td>\n",
              "      <td>351.8</td>\n",
              "      <td>222.7</td>\n",
              "      <td>328.1</td>\n",
              "      <td>33.9</td>\n",
              "      <td>3.3</td>\n",
              "      <td>3129.7</td>\n",
              "      <td>YES</td>\n",
              "    </tr>\n",
              "    <tr>\n",
              "      <th>4</th>\n",
              "      <td>KERALA</td>\n",
              "      <td>1905</td>\n",
              "      <td>1.2</td>\n",
              "      <td>22.3</td>\n",
              "      <td>9.4</td>\n",
              "      <td>105.9</td>\n",
              "      <td>263.3</td>\n",
              "      <td>850.2</td>\n",
              "      <td>520.5</td>\n",
              "      <td>293.6</td>\n",
              "      <td>217.2</td>\n",
              "      <td>383.5</td>\n",
              "      <td>74.4</td>\n",
              "      <td>0.2</td>\n",
              "      <td>2741.6</td>\n",
              "      <td>NO</td>\n",
              "    </tr>\n",
              "  </tbody>\n",
              "</table>\n",
              "</div>\n",
              "      <button class=\"colab-df-convert\" onclick=\"convertToInteractive('df-70de2ea1-58e5-4c4d-90f3-cc7b8582be3a')\"\n",
              "              title=\"Convert this dataframe to an interactive table.\"\n",
              "              style=\"display:none;\">\n",
              "\n",
              "  <svg xmlns=\"http://www.w3.org/2000/svg\" height=\"24px\"viewBox=\"0 0 24 24\"\n",
              "       width=\"24px\">\n",
              "    <path d=\"M0 0h24v24H0V0z\" fill=\"none\"/>\n",
              "    <path d=\"M18.56 5.44l.94 2.06.94-2.06 2.06-.94-2.06-.94-.94-2.06-.94 2.06-2.06.94zm-11 1L8.5 8.5l.94-2.06 2.06-.94-2.06-.94L8.5 2.5l-.94 2.06-2.06.94zm10 10l.94 2.06.94-2.06 2.06-.94-2.06-.94-.94-2.06-.94 2.06-2.06.94z\"/><path d=\"M17.41 7.96l-1.37-1.37c-.4-.4-.92-.59-1.43-.59-.52 0-1.04.2-1.43.59L10.3 9.45l-7.72 7.72c-.78.78-.78 2.05 0 2.83L4 21.41c.39.39.9.59 1.41.59.51 0 1.02-.2 1.41-.59l7.78-7.78 2.81-2.81c.8-.78.8-2.07 0-2.86zM5.41 20L4 18.59l7.72-7.72 1.47 1.35L5.41 20z\"/>\n",
              "  </svg>\n",
              "      </button>\n",
              "\n",
              "\n",
              "\n",
              "    <div id=\"df-a81108fc-0a75-4ad7-a647-a6a42cd9023d\">\n",
              "      <button class=\"colab-df-quickchart\" onclick=\"quickchart('df-a81108fc-0a75-4ad7-a647-a6a42cd9023d')\"\n",
              "              title=\"Suggest charts.\"\n",
              "              style=\"display:none;\">\n",
              "\n",
              "<svg xmlns=\"http://www.w3.org/2000/svg\" height=\"24px\"viewBox=\"0 0 24 24\"\n",
              "     width=\"24px\">\n",
              "    <g>\n",
              "        <path d=\"M19 3H5c-1.1 0-2 .9-2 2v14c0 1.1.9 2 2 2h14c1.1 0 2-.9 2-2V5c0-1.1-.9-2-2-2zM9 17H7v-7h2v7zm4 0h-2V7h2v10zm4 0h-2v-4h2v4z\"/>\n",
              "    </g>\n",
              "</svg>\n",
              "      </button>\n",
              "    </div>\n",
              "\n",
              "<style>\n",
              "  .colab-df-quickchart {\n",
              "    background-color: #E8F0FE;\n",
              "    border: none;\n",
              "    border-radius: 50%;\n",
              "    cursor: pointer;\n",
              "    display: none;\n",
              "    fill: #1967D2;\n",
              "    height: 32px;\n",
              "    padding: 0 0 0 0;\n",
              "    width: 32px;\n",
              "  }\n",
              "\n",
              "  .colab-df-quickchart:hover {\n",
              "    background-color: #E2EBFA;\n",
              "    box-shadow: 0px 1px 2px rgba(60, 64, 67, 0.3), 0px 1px 3px 1px rgba(60, 64, 67, 0.15);\n",
              "    fill: #174EA6;\n",
              "  }\n",
              "\n",
              "  [theme=dark] .colab-df-quickchart {\n",
              "    background-color: #3B4455;\n",
              "    fill: #D2E3FC;\n",
              "  }\n",
              "\n",
              "  [theme=dark] .colab-df-quickchart:hover {\n",
              "    background-color: #434B5C;\n",
              "    box-shadow: 0px 1px 3px 1px rgba(0, 0, 0, 0.15);\n",
              "    filter: drop-shadow(0px 1px 2px rgba(0, 0, 0, 0.3));\n",
              "    fill: #FFFFFF;\n",
              "  }\n",
              "</style>\n",
              "\n",
              "    <script>\n",
              "      async function quickchart(key) {\n",
              "        const containerElement = document.querySelector('#' + key);\n",
              "        const charts = await google.colab.kernel.invokeFunction(\n",
              "            'suggestCharts', [key], {});\n",
              "      }\n",
              "    </script>\n",
              "\n",
              "\n",
              "      <script>\n",
              "\n",
              "function displayQuickchartButton(domScope) {\n",
              "  let quickchartButtonEl =\n",
              "    domScope.querySelector('#df-a81108fc-0a75-4ad7-a647-a6a42cd9023d button.colab-df-quickchart');\n",
              "  quickchartButtonEl.style.display =\n",
              "    google.colab.kernel.accessAllowed ? 'block' : 'none';\n",
              "}\n",
              "\n",
              "        displayQuickchartButton(document);\n",
              "      </script>\n",
              "      <style>\n",
              "    .colab-df-container {\n",
              "      display:flex;\n",
              "      flex-wrap:wrap;\n",
              "      gap: 12px;\n",
              "    }\n",
              "\n",
              "    .colab-df-convert {\n",
              "      background-color: #E8F0FE;\n",
              "      border: none;\n",
              "      border-radius: 50%;\n",
              "      cursor: pointer;\n",
              "      display: none;\n",
              "      fill: #1967D2;\n",
              "      height: 32px;\n",
              "      padding: 0 0 0 0;\n",
              "      width: 32px;\n",
              "    }\n",
              "\n",
              "    .colab-df-convert:hover {\n",
              "      background-color: #E2EBFA;\n",
              "      box-shadow: 0px 1px 2px rgba(60, 64, 67, 0.3), 0px 1px 3px 1px rgba(60, 64, 67, 0.15);\n",
              "      fill: #174EA6;\n",
              "    }\n",
              "\n",
              "    [theme=dark] .colab-df-convert {\n",
              "      background-color: #3B4455;\n",
              "      fill: #D2E3FC;\n",
              "    }\n",
              "\n",
              "    [theme=dark] .colab-df-convert:hover {\n",
              "      background-color: #434B5C;\n",
              "      box-shadow: 0px 1px 3px 1px rgba(0, 0, 0, 0.15);\n",
              "      filter: drop-shadow(0px 1px 2px rgba(0, 0, 0, 0.3));\n",
              "      fill: #FFFFFF;\n",
              "    }\n",
              "  </style>\n",
              "\n",
              "      <script>\n",
              "        const buttonEl =\n",
              "          document.querySelector('#df-70de2ea1-58e5-4c4d-90f3-cc7b8582be3a button.colab-df-convert');\n",
              "        buttonEl.style.display =\n",
              "          google.colab.kernel.accessAllowed ? 'block' : 'none';\n",
              "\n",
              "        async function convertToInteractive(key) {\n",
              "          const element = document.querySelector('#df-70de2ea1-58e5-4c4d-90f3-cc7b8582be3a');\n",
              "          const dataTable =\n",
              "            await google.colab.kernel.invokeFunction('convertToInteractive',\n",
              "                                                     [key], {});\n",
              "          if (!dataTable) return;\n",
              "\n",
              "          const docLinkHtml = 'Like what you see? Visit the ' +\n",
              "            '<a target=\"_blank\" href=https://colab.research.google.com/notebooks/data_table.ipynb>data table notebook</a>'\n",
              "            + ' to learn more about interactive tables.';\n",
              "          element.innerHTML = '';\n",
              "          dataTable['output_type'] = 'display_data';\n",
              "          await google.colab.output.renderOutput(dataTable, element);\n",
              "          const docLink = document.createElement('div');\n",
              "          docLink.innerHTML = docLinkHtml;\n",
              "          element.appendChild(docLink);\n",
              "        }\n",
              "      </script>\n",
              "    </div>\n",
              "  </div>\n"
            ]
          },
          "metadata": {},
          "execution_count": 40
        }
      ]
    },
    {
      "cell_type": "markdown",
      "source": [
        "\n",
        "\n",
        "June and July are the peak months of rainfall. Consider that if it rains more than 500mm, then chances of flood become more;\n",
        "\n",
        "**1.create a Datarame with columns –“YEAR”, “JUN_GT_500”(Contains a boolean value to show whether it rained more than 500 mm in the month of June), “JUL_GT_500”(Contains a boolean value to show whether it rained more than 500 mm in the month of July),and “FLOODS”(Contains a boolean value to show whether it flooded that year)**\n",
        "\n",
        "\n",
        "\n",
        "\n",
        "\n"
      ],
      "metadata": {
        "id": "Y2x1IY_ln4d2"
      }
    },
    {
      "cell_type": "code",
      "source": [
        "df_jun_jul = pd.DataFrame()\n",
        "\n",
        "df_jun_jul[['YEAR', 'JUN_GT_500', 'JUL_GT_500', 'FLOODS']] = df[['YEAR', 'JUN', 'JUL', 'FLOODS']]\n",
        "\n",
        "\n",
        "for i in range(len(df_jun_jul)):\n",
        "  if df_jun_jul.at[i, 'JUN_GT_500'] > 500:\n",
        "    df_jun_jul.at[i, 'JUN_GT_500'] = 1\n",
        "  else:\n",
        "    df_jun_jul.at[i, 'JUN_GT_500'] = 0\n",
        "\n",
        "  if df_jun_jul.at[i, 'JUL_GT_500'] > 500:\n",
        "    df_jun_jul.at[i, 'JUL_GT_500'] = 1\n",
        "  else:\n",
        "    df_jun_jul.at[i, 'JUL_GT_500'] = 0\n",
        "\n",
        "  if df_jun_jul.at[i, 'FLOODS'] == 'YES':\n",
        "    df_jun_jul.at[i, 'FLOODS'] = 1\n",
        "  else:\n",
        "    df_jun_jul.at[i, 'FLOODS'] = 0\n",
        "\n",
        "df_jun_jul.head()"
      ],
      "metadata": {
        "id": "1LkoI0KXEnWM",
        "colab": {
          "base_uri": "https://localhost:8080/",
          "height": 206
        },
        "outputId": "4f9dbe11-5ba7-4124-c4e2-70a9a194e7bd"
      },
      "execution_count": 41,
      "outputs": [
        {
          "output_type": "execute_result",
          "data": {
            "text/plain": [
              "   YEAR  JUN_GT_500  JUL_GT_500 FLOODS\n",
              "0  1901         1.0         1.0      1\n",
              "1  1902         0.0         1.0      1\n",
              "2  1903         1.0         1.0      1\n",
              "3  1904         1.0         1.0      1\n",
              "4  1905         1.0         1.0      0"
            ],
            "text/html": [
              "\n",
              "\n",
              "  <div id=\"df-93e3a69b-0c9f-4424-ba7f-26f496eab551\">\n",
              "    <div class=\"colab-df-container\">\n",
              "      <div>\n",
              "<style scoped>\n",
              "    .dataframe tbody tr th:only-of-type {\n",
              "        vertical-align: middle;\n",
              "    }\n",
              "\n",
              "    .dataframe tbody tr th {\n",
              "        vertical-align: top;\n",
              "    }\n",
              "\n",
              "    .dataframe thead th {\n",
              "        text-align: right;\n",
              "    }\n",
              "</style>\n",
              "<table border=\"1\" class=\"dataframe\">\n",
              "  <thead>\n",
              "    <tr style=\"text-align: right;\">\n",
              "      <th></th>\n",
              "      <th>YEAR</th>\n",
              "      <th>JUN_GT_500</th>\n",
              "      <th>JUL_GT_500</th>\n",
              "      <th>FLOODS</th>\n",
              "    </tr>\n",
              "  </thead>\n",
              "  <tbody>\n",
              "    <tr>\n",
              "      <th>0</th>\n",
              "      <td>1901</td>\n",
              "      <td>1.0</td>\n",
              "      <td>1.0</td>\n",
              "      <td>1</td>\n",
              "    </tr>\n",
              "    <tr>\n",
              "      <th>1</th>\n",
              "      <td>1902</td>\n",
              "      <td>0.0</td>\n",
              "      <td>1.0</td>\n",
              "      <td>1</td>\n",
              "    </tr>\n",
              "    <tr>\n",
              "      <th>2</th>\n",
              "      <td>1903</td>\n",
              "      <td>1.0</td>\n",
              "      <td>1.0</td>\n",
              "      <td>1</td>\n",
              "    </tr>\n",
              "    <tr>\n",
              "      <th>3</th>\n",
              "      <td>1904</td>\n",
              "      <td>1.0</td>\n",
              "      <td>1.0</td>\n",
              "      <td>1</td>\n",
              "    </tr>\n",
              "    <tr>\n",
              "      <th>4</th>\n",
              "      <td>1905</td>\n",
              "      <td>1.0</td>\n",
              "      <td>1.0</td>\n",
              "      <td>0</td>\n",
              "    </tr>\n",
              "  </tbody>\n",
              "</table>\n",
              "</div>\n",
              "      <button class=\"colab-df-convert\" onclick=\"convertToInteractive('df-93e3a69b-0c9f-4424-ba7f-26f496eab551')\"\n",
              "              title=\"Convert this dataframe to an interactive table.\"\n",
              "              style=\"display:none;\">\n",
              "\n",
              "  <svg xmlns=\"http://www.w3.org/2000/svg\" height=\"24px\"viewBox=\"0 0 24 24\"\n",
              "       width=\"24px\">\n",
              "    <path d=\"M0 0h24v24H0V0z\" fill=\"none\"/>\n",
              "    <path d=\"M18.56 5.44l.94 2.06.94-2.06 2.06-.94-2.06-.94-.94-2.06-.94 2.06-2.06.94zm-11 1L8.5 8.5l.94-2.06 2.06-.94-2.06-.94L8.5 2.5l-.94 2.06-2.06.94zm10 10l.94 2.06.94-2.06 2.06-.94-2.06-.94-.94-2.06-.94 2.06-2.06.94z\"/><path d=\"M17.41 7.96l-1.37-1.37c-.4-.4-.92-.59-1.43-.59-.52 0-1.04.2-1.43.59L10.3 9.45l-7.72 7.72c-.78.78-.78 2.05 0 2.83L4 21.41c.39.39.9.59 1.41.59.51 0 1.02-.2 1.41-.59l7.78-7.78 2.81-2.81c.8-.78.8-2.07 0-2.86zM5.41 20L4 18.59l7.72-7.72 1.47 1.35L5.41 20z\"/>\n",
              "  </svg>\n",
              "      </button>\n",
              "\n",
              "\n",
              "\n",
              "    <div id=\"df-b3a574c5-e7f5-4966-b742-0b30f7d538da\">\n",
              "      <button class=\"colab-df-quickchart\" onclick=\"quickchart('df-b3a574c5-e7f5-4966-b742-0b30f7d538da')\"\n",
              "              title=\"Suggest charts.\"\n",
              "              style=\"display:none;\">\n",
              "\n",
              "<svg xmlns=\"http://www.w3.org/2000/svg\" height=\"24px\"viewBox=\"0 0 24 24\"\n",
              "     width=\"24px\">\n",
              "    <g>\n",
              "        <path d=\"M19 3H5c-1.1 0-2 .9-2 2v14c0 1.1.9 2 2 2h14c1.1 0 2-.9 2-2V5c0-1.1-.9-2-2-2zM9 17H7v-7h2v7zm4 0h-2V7h2v10zm4 0h-2v-4h2v4z\"/>\n",
              "    </g>\n",
              "</svg>\n",
              "      </button>\n",
              "    </div>\n",
              "\n",
              "<style>\n",
              "  .colab-df-quickchart {\n",
              "    background-color: #E8F0FE;\n",
              "    border: none;\n",
              "    border-radius: 50%;\n",
              "    cursor: pointer;\n",
              "    display: none;\n",
              "    fill: #1967D2;\n",
              "    height: 32px;\n",
              "    padding: 0 0 0 0;\n",
              "    width: 32px;\n",
              "  }\n",
              "\n",
              "  .colab-df-quickchart:hover {\n",
              "    background-color: #E2EBFA;\n",
              "    box-shadow: 0px 1px 2px rgba(60, 64, 67, 0.3), 0px 1px 3px 1px rgba(60, 64, 67, 0.15);\n",
              "    fill: #174EA6;\n",
              "  }\n",
              "\n",
              "  [theme=dark] .colab-df-quickchart {\n",
              "    background-color: #3B4455;\n",
              "    fill: #D2E3FC;\n",
              "  }\n",
              "\n",
              "  [theme=dark] .colab-df-quickchart:hover {\n",
              "    background-color: #434B5C;\n",
              "    box-shadow: 0px 1px 3px 1px rgba(0, 0, 0, 0.15);\n",
              "    filter: drop-shadow(0px 1px 2px rgba(0, 0, 0, 0.3));\n",
              "    fill: #FFFFFF;\n",
              "  }\n",
              "</style>\n",
              "\n",
              "    <script>\n",
              "      async function quickchart(key) {\n",
              "        const containerElement = document.querySelector('#' + key);\n",
              "        const charts = await google.colab.kernel.invokeFunction(\n",
              "            'suggestCharts', [key], {});\n",
              "      }\n",
              "    </script>\n",
              "\n",
              "\n",
              "      <script>\n",
              "\n",
              "function displayQuickchartButton(domScope) {\n",
              "  let quickchartButtonEl =\n",
              "    domScope.querySelector('#df-b3a574c5-e7f5-4966-b742-0b30f7d538da button.colab-df-quickchart');\n",
              "  quickchartButtonEl.style.display =\n",
              "    google.colab.kernel.accessAllowed ? 'block' : 'none';\n",
              "}\n",
              "\n",
              "        displayQuickchartButton(document);\n",
              "      </script>\n",
              "      <style>\n",
              "    .colab-df-container {\n",
              "      display:flex;\n",
              "      flex-wrap:wrap;\n",
              "      gap: 12px;\n",
              "    }\n",
              "\n",
              "    .colab-df-convert {\n",
              "      background-color: #E8F0FE;\n",
              "      border: none;\n",
              "      border-radius: 50%;\n",
              "      cursor: pointer;\n",
              "      display: none;\n",
              "      fill: #1967D2;\n",
              "      height: 32px;\n",
              "      padding: 0 0 0 0;\n",
              "      width: 32px;\n",
              "    }\n",
              "\n",
              "    .colab-df-convert:hover {\n",
              "      background-color: #E2EBFA;\n",
              "      box-shadow: 0px 1px 2px rgba(60, 64, 67, 0.3), 0px 1px 3px 1px rgba(60, 64, 67, 0.15);\n",
              "      fill: #174EA6;\n",
              "    }\n",
              "\n",
              "    [theme=dark] .colab-df-convert {\n",
              "      background-color: #3B4455;\n",
              "      fill: #D2E3FC;\n",
              "    }\n",
              "\n",
              "    [theme=dark] .colab-df-convert:hover {\n",
              "      background-color: #434B5C;\n",
              "      box-shadow: 0px 1px 3px 1px rgba(0, 0, 0, 0.15);\n",
              "      filter: drop-shadow(0px 1px 2px rgba(0, 0, 0, 0.3));\n",
              "      fill: #FFFFFF;\n",
              "    }\n",
              "  </style>\n",
              "\n",
              "      <script>\n",
              "        const buttonEl =\n",
              "          document.querySelector('#df-93e3a69b-0c9f-4424-ba7f-26f496eab551 button.colab-df-convert');\n",
              "        buttonEl.style.display =\n",
              "          google.colab.kernel.accessAllowed ? 'block' : 'none';\n",
              "\n",
              "        async function convertToInteractive(key) {\n",
              "          const element = document.querySelector('#df-93e3a69b-0c9f-4424-ba7f-26f496eab551');\n",
              "          const dataTable =\n",
              "            await google.colab.kernel.invokeFunction('convertToInteractive',\n",
              "                                                     [key], {});\n",
              "          if (!dataTable) return;\n",
              "\n",
              "          const docLinkHtml = 'Like what you see? Visit the ' +\n",
              "            '<a target=\"_blank\" href=https://colab.research.google.com/notebooks/data_table.ipynb>data table notebook</a>'\n",
              "            + ' to learn more about interactive tables.';\n",
              "          element.innerHTML = '';\n",
              "          dataTable['output_type'] = 'display_data';\n",
              "          await google.colab.output.renderOutput(dataTable, element);\n",
              "          const docLink = document.createElement('div');\n",
              "          docLink.innerHTML = docLinkHtml;\n",
              "          element.appendChild(docLink);\n",
              "        }\n",
              "      </script>\n",
              "    </div>\n",
              "  </div>\n"
            ]
          },
          "metadata": {},
          "execution_count": 41
        }
      ]
    },
    {
      "cell_type": "markdown",
      "source": [
        "Test\n",
        "**1.Explore the DataFrame using info()and describe()functions**\n",
        "\n"
      ],
      "metadata": {
        "id": "tvK06i4-nrh9"
      }
    },
    {
      "cell_type": "code",
      "source": [
        "df_jun_jul.info()\n",
        "\n",
        "df_jun_jul.describe()"
      ],
      "metadata": {
        "colab": {
          "base_uri": "https://localhost:8080/",
          "height": 497
        },
        "id": "64RC1mWizUgC",
        "outputId": "b86a00e8-e5ac-4d04-9609-e3645a5b63d6"
      },
      "execution_count": 42,
      "outputs": [
        {
          "output_type": "stream",
          "name": "stdout",
          "text": [
            "<class 'pandas.core.frame.DataFrame'>\n",
            "RangeIndex: 118 entries, 0 to 117\n",
            "Data columns (total 4 columns):\n",
            " #   Column      Non-Null Count  Dtype  \n",
            "---  ------      --------------  -----  \n",
            " 0   YEAR        118 non-null    int64  \n",
            " 1   JUN_GT_500  118 non-null    float64\n",
            " 2   JUL_GT_500  118 non-null    float64\n",
            " 3   FLOODS      118 non-null    object \n",
            "dtypes: float64(2), int64(1), object(1)\n",
            "memory usage: 3.8+ KB\n"
          ]
        },
        {
          "output_type": "execute_result",
          "data": {
            "text/plain": [
              "              YEAR  JUN_GT_500  JUL_GT_500\n",
              "count   118.000000  118.000000  118.000000\n",
              "mean   1959.500000    0.788136    0.813559\n",
              "std      34.207699    0.410372    0.391123\n",
              "min    1901.000000    0.000000    0.000000\n",
              "25%    1930.250000    1.000000    1.000000\n",
              "50%    1959.500000    1.000000    1.000000\n",
              "75%    1988.750000    1.000000    1.000000\n",
              "max    2018.000000    1.000000    1.000000"
            ],
            "text/html": [
              "\n",
              "\n",
              "  <div id=\"df-828d353c-a220-412d-b73d-3be4fcfbe415\">\n",
              "    <div class=\"colab-df-container\">\n",
              "      <div>\n",
              "<style scoped>\n",
              "    .dataframe tbody tr th:only-of-type {\n",
              "        vertical-align: middle;\n",
              "    }\n",
              "\n",
              "    .dataframe tbody tr th {\n",
              "        vertical-align: top;\n",
              "    }\n",
              "\n",
              "    .dataframe thead th {\n",
              "        text-align: right;\n",
              "    }\n",
              "</style>\n",
              "<table border=\"1\" class=\"dataframe\">\n",
              "  <thead>\n",
              "    <tr style=\"text-align: right;\">\n",
              "      <th></th>\n",
              "      <th>YEAR</th>\n",
              "      <th>JUN_GT_500</th>\n",
              "      <th>JUL_GT_500</th>\n",
              "    </tr>\n",
              "  </thead>\n",
              "  <tbody>\n",
              "    <tr>\n",
              "      <th>count</th>\n",
              "      <td>118.000000</td>\n",
              "      <td>118.000000</td>\n",
              "      <td>118.000000</td>\n",
              "    </tr>\n",
              "    <tr>\n",
              "      <th>mean</th>\n",
              "      <td>1959.500000</td>\n",
              "      <td>0.788136</td>\n",
              "      <td>0.813559</td>\n",
              "    </tr>\n",
              "    <tr>\n",
              "      <th>std</th>\n",
              "      <td>34.207699</td>\n",
              "      <td>0.410372</td>\n",
              "      <td>0.391123</td>\n",
              "    </tr>\n",
              "    <tr>\n",
              "      <th>min</th>\n",
              "      <td>1901.000000</td>\n",
              "      <td>0.000000</td>\n",
              "      <td>0.000000</td>\n",
              "    </tr>\n",
              "    <tr>\n",
              "      <th>25%</th>\n",
              "      <td>1930.250000</td>\n",
              "      <td>1.000000</td>\n",
              "      <td>1.000000</td>\n",
              "    </tr>\n",
              "    <tr>\n",
              "      <th>50%</th>\n",
              "      <td>1959.500000</td>\n",
              "      <td>1.000000</td>\n",
              "      <td>1.000000</td>\n",
              "    </tr>\n",
              "    <tr>\n",
              "      <th>75%</th>\n",
              "      <td>1988.750000</td>\n",
              "      <td>1.000000</td>\n",
              "      <td>1.000000</td>\n",
              "    </tr>\n",
              "    <tr>\n",
              "      <th>max</th>\n",
              "      <td>2018.000000</td>\n",
              "      <td>1.000000</td>\n",
              "      <td>1.000000</td>\n",
              "    </tr>\n",
              "  </tbody>\n",
              "</table>\n",
              "</div>\n",
              "      <button class=\"colab-df-convert\" onclick=\"convertToInteractive('df-828d353c-a220-412d-b73d-3be4fcfbe415')\"\n",
              "              title=\"Convert this dataframe to an interactive table.\"\n",
              "              style=\"display:none;\">\n",
              "\n",
              "  <svg xmlns=\"http://www.w3.org/2000/svg\" height=\"24px\"viewBox=\"0 0 24 24\"\n",
              "       width=\"24px\">\n",
              "    <path d=\"M0 0h24v24H0V0z\" fill=\"none\"/>\n",
              "    <path d=\"M18.56 5.44l.94 2.06.94-2.06 2.06-.94-2.06-.94-.94-2.06-.94 2.06-2.06.94zm-11 1L8.5 8.5l.94-2.06 2.06-.94-2.06-.94L8.5 2.5l-.94 2.06-2.06.94zm10 10l.94 2.06.94-2.06 2.06-.94-2.06-.94-.94-2.06-.94 2.06-2.06.94z\"/><path d=\"M17.41 7.96l-1.37-1.37c-.4-.4-.92-.59-1.43-.59-.52 0-1.04.2-1.43.59L10.3 9.45l-7.72 7.72c-.78.78-.78 2.05 0 2.83L4 21.41c.39.39.9.59 1.41.59.51 0 1.02-.2 1.41-.59l7.78-7.78 2.81-2.81c.8-.78.8-2.07 0-2.86zM5.41 20L4 18.59l7.72-7.72 1.47 1.35L5.41 20z\"/>\n",
              "  </svg>\n",
              "      </button>\n",
              "\n",
              "\n",
              "\n",
              "    <div id=\"df-f7a55f73-5df2-415f-b497-2b639eb3a57c\">\n",
              "      <button class=\"colab-df-quickchart\" onclick=\"quickchart('df-f7a55f73-5df2-415f-b497-2b639eb3a57c')\"\n",
              "              title=\"Suggest charts.\"\n",
              "              style=\"display:none;\">\n",
              "\n",
              "<svg xmlns=\"http://www.w3.org/2000/svg\" height=\"24px\"viewBox=\"0 0 24 24\"\n",
              "     width=\"24px\">\n",
              "    <g>\n",
              "        <path d=\"M19 3H5c-1.1 0-2 .9-2 2v14c0 1.1.9 2 2 2h14c1.1 0 2-.9 2-2V5c0-1.1-.9-2-2-2zM9 17H7v-7h2v7zm4 0h-2V7h2v10zm4 0h-2v-4h2v4z\"/>\n",
              "    </g>\n",
              "</svg>\n",
              "      </button>\n",
              "    </div>\n",
              "\n",
              "<style>\n",
              "  .colab-df-quickchart {\n",
              "    background-color: #E8F0FE;\n",
              "    border: none;\n",
              "    border-radius: 50%;\n",
              "    cursor: pointer;\n",
              "    display: none;\n",
              "    fill: #1967D2;\n",
              "    height: 32px;\n",
              "    padding: 0 0 0 0;\n",
              "    width: 32px;\n",
              "  }\n",
              "\n",
              "  .colab-df-quickchart:hover {\n",
              "    background-color: #E2EBFA;\n",
              "    box-shadow: 0px 1px 2px rgba(60, 64, 67, 0.3), 0px 1px 3px 1px rgba(60, 64, 67, 0.15);\n",
              "    fill: #174EA6;\n",
              "  }\n",
              "\n",
              "  [theme=dark] .colab-df-quickchart {\n",
              "    background-color: #3B4455;\n",
              "    fill: #D2E3FC;\n",
              "  }\n",
              "\n",
              "  [theme=dark] .colab-df-quickchart:hover {\n",
              "    background-color: #434B5C;\n",
              "    box-shadow: 0px 1px 3px 1px rgba(0, 0, 0, 0.15);\n",
              "    filter: drop-shadow(0px 1px 2px rgba(0, 0, 0, 0.3));\n",
              "    fill: #FFFFFF;\n",
              "  }\n",
              "</style>\n",
              "\n",
              "    <script>\n",
              "      async function quickchart(key) {\n",
              "        const containerElement = document.querySelector('#' + key);\n",
              "        const charts = await google.colab.kernel.invokeFunction(\n",
              "            'suggestCharts', [key], {});\n",
              "      }\n",
              "    </script>\n",
              "\n",
              "\n",
              "      <script>\n",
              "\n",
              "function displayQuickchartButton(domScope) {\n",
              "  let quickchartButtonEl =\n",
              "    domScope.querySelector('#df-f7a55f73-5df2-415f-b497-2b639eb3a57c button.colab-df-quickchart');\n",
              "  quickchartButtonEl.style.display =\n",
              "    google.colab.kernel.accessAllowed ? 'block' : 'none';\n",
              "}\n",
              "\n",
              "        displayQuickchartButton(document);\n",
              "      </script>\n",
              "      <style>\n",
              "    .colab-df-container {\n",
              "      display:flex;\n",
              "      flex-wrap:wrap;\n",
              "      gap: 12px;\n",
              "    }\n",
              "\n",
              "    .colab-df-convert {\n",
              "      background-color: #E8F0FE;\n",
              "      border: none;\n",
              "      border-radius: 50%;\n",
              "      cursor: pointer;\n",
              "      display: none;\n",
              "      fill: #1967D2;\n",
              "      height: 32px;\n",
              "      padding: 0 0 0 0;\n",
              "      width: 32px;\n",
              "    }\n",
              "\n",
              "    .colab-df-convert:hover {\n",
              "      background-color: #E2EBFA;\n",
              "      box-shadow: 0px 1px 2px rgba(60, 64, 67, 0.3), 0px 1px 3px 1px rgba(60, 64, 67, 0.15);\n",
              "      fill: #174EA6;\n",
              "    }\n",
              "\n",
              "    [theme=dark] .colab-df-convert {\n",
              "      background-color: #3B4455;\n",
              "      fill: #D2E3FC;\n",
              "    }\n",
              "\n",
              "    [theme=dark] .colab-df-convert:hover {\n",
              "      background-color: #434B5C;\n",
              "      box-shadow: 0px 1px 3px 1px rgba(0, 0, 0, 0.15);\n",
              "      filter: drop-shadow(0px 1px 2px rgba(0, 0, 0, 0.3));\n",
              "      fill: #FFFFFF;\n",
              "    }\n",
              "  </style>\n",
              "\n",
              "      <script>\n",
              "        const buttonEl =\n",
              "          document.querySelector('#df-828d353c-a220-412d-b73d-3be4fcfbe415 button.colab-df-convert');\n",
              "        buttonEl.style.display =\n",
              "          google.colab.kernel.accessAllowed ? 'block' : 'none';\n",
              "\n",
              "        async function convertToInteractive(key) {\n",
              "          const element = document.querySelector('#df-828d353c-a220-412d-b73d-3be4fcfbe415');\n",
              "          const dataTable =\n",
              "            await google.colab.kernel.invokeFunction('convertToInteractive',\n",
              "                                                     [key], {});\n",
              "          if (!dataTable) return;\n",
              "\n",
              "          const docLinkHtml = 'Like what you see? Visit the ' +\n",
              "            '<a target=\"_blank\" href=https://colab.research.google.com/notebooks/data_table.ipynb>data table notebook</a>'\n",
              "            + ' to learn more about interactive tables.';\n",
              "          element.innerHTML = '';\n",
              "          dataTable['output_type'] = 'display_data';\n",
              "          await google.colab.output.renderOutput(dataTable, element);\n",
              "          const docLink = document.createElement('div');\n",
              "          docLink.innerHTML = docLinkHtml;\n",
              "          element.appendChild(docLink);\n",
              "        }\n",
              "      </script>\n",
              "    </div>\n",
              "  </div>\n"
            ]
          },
          "metadata": {},
          "execution_count": 42
        }
      ]
    },
    {
      "cell_type": "markdown",
      "source": [
        "\n",
        "**2. Calculate the probability of flood given it rained more than 500 mm in June (P(A|B))**\n",
        "\n"
      ],
      "metadata": {
        "id": "kkgYsZS3o4Xg"
      }
    },
    {
      "cell_type": "markdown",
      "source": [
        "Step 1: Calulate the sample size"
      ],
      "metadata": {
        "id": "xK8gqkbPlHH8"
      }
    },
    {
      "cell_type": "code",
      "source": [
        "x_size = len(df)\n",
        "x_size"
      ],
      "metadata": {
        "colab": {
          "base_uri": "https://localhost:8080/"
        },
        "id": "VX2tlgQV1fUt",
        "outputId": "6a9df5e9-2950-493b-b858-3a6ff28f8e18"
      },
      "execution_count": 43,
      "outputs": [
        {
          "output_type": "execute_result",
          "data": {
            "text/plain": [
              "118"
            ]
          },
          "metadata": {},
          "execution_count": 43
        }
      ]
    },
    {
      "cell_type": "markdown",
      "source": [
        "Step 2: Calculate the count of rain more than 500mm in june"
      ],
      "metadata": {
        "id": "_Xf_p8Dlpedy"
      }
    },
    {
      "cell_type": "code",
      "source": [
        "june_count = df_jun_jul[df_jun_jul.JUN_GT_500 == 1].JUN_GT_500.count()\n",
        "june_count"
      ],
      "metadata": {
        "colab": {
          "base_uri": "https://localhost:8080/"
        },
        "id": "yCQa3oYapiu8",
        "outputId": "43433d13-3e01-418e-eb86-376be44745d2"
      },
      "execution_count": 44,
      "outputs": [
        {
          "output_type": "execute_result",
          "data": {
            "text/plain": [
              "93"
            ]
          },
          "metadata": {},
          "execution_count": 44
        }
      ]
    },
    {
      "cell_type": "markdown",
      "source": [
        "Step 3: Calculate the probability of more than 500mm rain in june"
      ],
      "metadata": {
        "id": "8KRKvZr-uad8"
      }
    },
    {
      "cell_type": "code",
      "source": [
        "probability_june = june_count/x_size\n",
        "probability_june"
      ],
      "metadata": {
        "colab": {
          "base_uri": "https://localhost:8080/"
        },
        "id": "PNaUC2-eunDl",
        "outputId": "70845e84-08d8-4776-fa91-442c85d3ed73"
      },
      "execution_count": 45,
      "outputs": [
        {
          "output_type": "execute_result",
          "data": {
            "text/plain": [
              "0.788135593220339"
            ]
          },
          "metadata": {},
          "execution_count": 45
        }
      ]
    },
    {
      "cell_type": "markdown",
      "source": [
        "Step 4: Calculate the count of rain more than 500mm and flood in june"
      ],
      "metadata": {
        "id": "m8lZ0_3VwA3f"
      }
    },
    {
      "cell_type": "code",
      "source": [
        "flood_rain_count = df_jun_jul[(df_jun_jul.FLOODS == 1) & (df_jun_jul.JUN_GT_500 == 1)].FLOODS.count()\n",
        "flood_rain_count"
      ],
      "metadata": {
        "colab": {
          "base_uri": "https://localhost:8080/"
        },
        "id": "Ck9O01ogwOrp",
        "outputId": "bea9bb3c-4be2-4545-ef19-85421eeb5c6f"
      },
      "execution_count": 72,
      "outputs": [
        {
          "output_type": "execute_result",
          "data": {
            "text/plain": [
              "54"
            ]
          },
          "metadata": {},
          "execution_count": 72
        }
      ]
    },
    {
      "cell_type": "markdown",
      "source": [
        "Step 5: Calculate the probability of rain more than 500mm and flood in june"
      ],
      "metadata": {
        "id": "uF5lDw2Eu_v3"
      }
    },
    {
      "cell_type": "code",
      "source": [
        "prob_flood_rain = flood_rain_count/x_size\n",
        "prob_flood_rain"
      ],
      "metadata": {
        "colab": {
          "base_uri": "https://localhost:8080/"
        },
        "id": "j_T-pwfDviYB",
        "outputId": "c7dd4703-6733-4f6c-e5ed-0b6f44862af5"
      },
      "execution_count": 47,
      "outputs": [
        {
          "output_type": "execute_result",
          "data": {
            "text/plain": [
              "0.4576271186440678"
            ]
          },
          "metadata": {},
          "execution_count": 47
        }
      ]
    },
    {
      "cell_type": "markdown",
      "source": [
        "Step 6: Calculate the probability of flood given it rained more than 500 mm in June"
      ],
      "metadata": {
        "id": "-9giMZgky7oq"
      }
    },
    {
      "cell_type": "code",
      "source": [
        "prob_flood_given_rain = prob_flood_rain/probability_june\n",
        "prob_flood_rain"
      ],
      "metadata": {
        "colab": {
          "base_uri": "https://localhost:8080/"
        },
        "id": "8FQvcd6ey-u9",
        "outputId": "36e7427a-e33f-45e9-cf0d-104ad4c1f852"
      },
      "execution_count": 71,
      "outputs": [
        {
          "output_type": "execute_result",
          "data": {
            "text/plain": [
              "0.4576271186440678"
            ]
          },
          "metadata": {},
          "execution_count": 71
        }
      ]
    },
    {
      "cell_type": "markdown",
      "source": [
        "\n",
        "\n",
        "**3. Calculate the probability of rain more than 500 mm in June,given it flooded that year (P(B|A))**\n",
        "\n"
      ],
      "metadata": {
        "id": "LLTyIBi2pNjM"
      }
    },
    {
      "cell_type": "markdown",
      "source": [
        "step 1: Calculate the number of times the flood occured"
      ],
      "metadata": {
        "id": "pwM2r_OVwWqb"
      }
    },
    {
      "cell_type": "code",
      "source": [
        "flood_counts = df_jun_jul[df_jun_jul.FLOODS == 1].FLOODS.count()\n",
        "flood_counts"
      ],
      "metadata": {
        "colab": {
          "base_uri": "https://localhost:8080/"
        },
        "id": "H-KQcSTLxQ_A",
        "outputId": "fe65c66b-8561-47d2-ef1b-3a18a5c95ff4"
      },
      "execution_count": 49,
      "outputs": [
        {
          "output_type": "execute_result",
          "data": {
            "text/plain": [
              "60"
            ]
          },
          "metadata": {},
          "execution_count": 49
        }
      ]
    },
    {
      "cell_type": "markdown",
      "source": [
        "Step 2: Calculate the probability that the flood occured"
      ],
      "metadata": {
        "id": "_W2BR8RI6J57"
      }
    },
    {
      "cell_type": "code",
      "source": [
        "prob_flood = flood_counts/x_size\n",
        "prob_flood"
      ],
      "metadata": {
        "colab": {
          "base_uri": "https://localhost:8080/"
        },
        "id": "x91BqdBT6y3_",
        "outputId": "2bf28374-2e15-405b-d760-6aa07a3049c3"
      },
      "execution_count": 50,
      "outputs": [
        {
          "output_type": "execute_result",
          "data": {
            "text/plain": [
              "0.5084745762711864"
            ]
          },
          "metadata": {},
          "execution_count": 50
        }
      ]
    },
    {
      "cell_type": "markdown",
      "source": [
        "step 3: Calculate the number of acurrences where rain in june is more than 500mm and flood occurs that year"
      ],
      "metadata": {
        "id": "rD_B4lDT7Cqa"
      }
    },
    {
      "cell_type": "code",
      "source": [
        "rain_flood_count = df_jun_jul[(df_jun_jul.JUN_GT_500 == 1) & (df_jun_jul.FLOODS == 1)].JUN_GT_500.count()\n",
        "rain_flood_count"
      ],
      "metadata": {
        "colab": {
          "base_uri": "https://localhost:8080/"
        },
        "id": "pXmATByF7m_6",
        "outputId": "82c9d54e-18ae-4ad7-c208-55ddb5c5d971"
      },
      "execution_count": 51,
      "outputs": [
        {
          "output_type": "execute_result",
          "data": {
            "text/plain": [
              "54"
            ]
          },
          "metadata": {},
          "execution_count": 51
        }
      ]
    },
    {
      "cell_type": "markdown",
      "source": [
        "step 4: Calculate the probability of rain in june is more than 500 mm and flood occurs that year"
      ],
      "metadata": {
        "id": "bPJSX4xK9cgL"
      }
    },
    {
      "cell_type": "code",
      "source": [
        "prob_rain_flood = rain_flood_count/x_size\n",
        "prob_rain_flood"
      ],
      "metadata": {
        "colab": {
          "base_uri": "https://localhost:8080/"
        },
        "id": "jwiBnwOg-GAo",
        "outputId": "079059d5-9444-4520-9782-4acdab09efc5"
      },
      "execution_count": 52,
      "outputs": [
        {
          "output_type": "execute_result",
          "data": {
            "text/plain": [
              "0.4576271186440678"
            ]
          },
          "metadata": {},
          "execution_count": 52
        }
      ]
    },
    {
      "cell_type": "markdown",
      "source": [
        "Step 5: Calulate the probability it rain more than 500 mm given it flooded that year."
      ],
      "metadata": {
        "id": "cJ_ZNwtv-kQ8"
      }
    },
    {
      "cell_type": "code",
      "source": [
        "prob_rain_given_flood = prob_rain_flood/prob_flood\n",
        "prob_rain_flood"
      ],
      "metadata": {
        "colab": {
          "base_uri": "https://localhost:8080/"
        },
        "id": "ECcm0YTLCjCM",
        "outputId": "0e8b61c3-85d3-4d8c-edcb-23fb95d0169b"
      },
      "execution_count": 53,
      "outputs": [
        {
          "output_type": "execute_result",
          "data": {
            "text/plain": [
              "0.4576271186440678"
            ]
          },
          "metadata": {},
          "execution_count": 53
        }
      ]
    },
    {
      "cell_type": "markdown",
      "source": [
        "**4. Probability of flood given it rained more than 500 mm in July**\n",
        "\n"
      ],
      "metadata": {
        "id": "uzmn5SKApiO2"
      }
    },
    {
      "cell_type": "markdown",
      "source": [
        "Step 1: Calculate the number of times it rain more 500 mm in July"
      ],
      "metadata": {
        "id": "0EDLw3w0xb0T"
      }
    },
    {
      "cell_type": "code",
      "source": [
        "rain_count = df_jun_jul[df_jun_jul.JUL_GT_500 == 1].JUL_GT_500.count()\n",
        "rain_count"
      ],
      "metadata": {
        "colab": {
          "base_uri": "https://localhost:8080/"
        },
        "id": "M57K8lzL-fUf",
        "outputId": "63cf565d-87cd-44b7-88de-8f29d12ec207"
      },
      "execution_count": 54,
      "outputs": [
        {
          "output_type": "execute_result",
          "data": {
            "text/plain": [
              "96"
            ]
          },
          "metadata": {},
          "execution_count": 54
        }
      ]
    },
    {
      "cell_type": "markdown",
      "source": [
        "Step 2: Calculate the probability that it rains more than 500 mm in July"
      ],
      "metadata": {
        "id": "GzEp2EjI9MFF"
      }
    },
    {
      "cell_type": "code",
      "source": [
        "prob_rain = rain_count/x_size\n",
        "prob_rain"
      ],
      "metadata": {
        "colab": {
          "base_uri": "https://localhost:8080/"
        },
        "id": "qD5_4P3y-gJy",
        "outputId": "492e7f12-a61c-4b6c-d3b3-30bd055c5f1d"
      },
      "execution_count": 55,
      "outputs": [
        {
          "output_type": "execute_result",
          "data": {
            "text/plain": [
              "0.8135593220338984"
            ]
          },
          "metadata": {},
          "execution_count": 55
        }
      ]
    },
    {
      "cell_type": "markdown",
      "source": [
        "Step 3: Calculate the number of times it rain more than 500 mm in July and it flood in that year"
      ],
      "metadata": {
        "id": "7h_S6fWR9dTf"
      }
    },
    {
      "cell_type": "code",
      "source": [
        "rain_flood_count = df_jun_jul[(df_jun_jul.JUL_GT_500 == 1) & (df_jun_jul.FLOODS == 1)].FLOODS.count()\n",
        "rain_flood_count"
      ],
      "metadata": {
        "colab": {
          "base_uri": "https://localhost:8080/"
        },
        "id": "UdgSXRwB-iE4",
        "outputId": "573e2a70-c33a-40b8-c3f0-41e5beb079aa"
      },
      "execution_count": 56,
      "outputs": [
        {
          "output_type": "execute_result",
          "data": {
            "text/plain": [
              "57"
            ]
          },
          "metadata": {},
          "execution_count": 56
        }
      ]
    },
    {
      "cell_type": "markdown",
      "source": [
        "Step 4: Calculate the probability that it rain more than 500 mm in July and it flood in that year"
      ],
      "metadata": {
        "id": "TSD7SJyE9uSR"
      }
    },
    {
      "cell_type": "code",
      "source": [
        "prob_rain_flood = rain_flood_count/x_size\n",
        "prob_rain_flood"
      ],
      "metadata": {
        "colab": {
          "base_uri": "https://localhost:8080/"
        },
        "id": "mvrXm-MW-jVu",
        "outputId": "08427e2c-3893-47e0-8553-7e07907f37cc"
      },
      "execution_count": 57,
      "outputs": [
        {
          "output_type": "execute_result",
          "data": {
            "text/plain": [
              "0.4830508474576271"
            ]
          },
          "metadata": {},
          "execution_count": 57
        }
      ]
    },
    {
      "cell_type": "markdown",
      "source": [
        "Step 5: Calculate the probability of flood given it rained more than 500 mm in July"
      ],
      "metadata": {
        "id": "4_h5aBiA-PER"
      }
    },
    {
      "cell_type": "code",
      "source": [
        "prob_flood_given_rain = prob_rain_flood/prob_rain\n",
        "prob_flood_given_rain"
      ],
      "metadata": {
        "colab": {
          "base_uri": "https://localhost:8080/"
        },
        "id": "myTMJVGn-kJ0",
        "outputId": "a70176ff-bc40-42ad-b649-b0619e3e23aa"
      },
      "execution_count": 58,
      "outputs": [
        {
          "output_type": "execute_result",
          "data": {
            "text/plain": [
              "0.59375"
            ]
          },
          "metadata": {},
          "execution_count": 58
        }
      ]
    },
    {
      "cell_type": "markdown",
      "source": [
        "\n",
        "\n",
        "**5. Probability of rain more than 500 mm in July given it flooded that year (P(B|A))**\n",
        "\n"
      ],
      "metadata": {
        "id": "d54fw1H9ps3A"
      }
    },
    {
      "cell_type": "markdown",
      "source": [
        "Step 1: Calculate the number of times it flooded"
      ],
      "metadata": {
        "id": "6A8WuB2HEslS"
      }
    },
    {
      "cell_type": "code",
      "source": [
        "flooded_count = df_jun_jul[df_jun_jul.FLOODS == 1].FLOODS.count()\n",
        "flooded_count"
      ],
      "metadata": {
        "colab": {
          "base_uri": "https://localhost:8080/"
        },
        "id": "sZH9GJmEEw5Z",
        "outputId": "733016a6-41a8-4512-bb6c-8f58e2d9ad1e"
      },
      "execution_count": 59,
      "outputs": [
        {
          "output_type": "execute_result",
          "data": {
            "text/plain": [
              "60"
            ]
          },
          "metadata": {},
          "execution_count": 59
        }
      ]
    },
    {
      "cell_type": "markdown",
      "source": [
        "Step 2: Calculate the probability that it flooded"
      ],
      "metadata": {
        "id": "bA-tTrzAEtMW"
      }
    },
    {
      "cell_type": "code",
      "source": [
        "prob_flooded = flooded_count / x_size\n",
        "prob_flooded"
      ],
      "metadata": {
        "colab": {
          "base_uri": "https://localhost:8080/"
        },
        "id": "kC4taiWbEx5j",
        "outputId": "c920b889-ba96-4618-ea5b-367b56c2de4c"
      },
      "execution_count": 60,
      "outputs": [
        {
          "output_type": "execute_result",
          "data": {
            "text/plain": [
              "0.5084745762711864"
            ]
          },
          "metadata": {},
          "execution_count": 60
        }
      ]
    },
    {
      "cell_type": "markdown",
      "source": [
        "Step 3: Calculate the number of times it rain more than 500 mm in July and it flooded that year"
      ],
      "metadata": {
        "id": "QJce95K9Etlo"
      }
    },
    {
      "cell_type": "code",
      "source": [
        "rain_flooded_count = df_jun_jul[(df_jun_jul.JUL_GT_500 == 1) & (df_jun_jul.FLOODS == 1)].JUL_GT_500.count()\n",
        "rain_flooded_count"
      ],
      "metadata": {
        "colab": {
          "base_uri": "https://localhost:8080/"
        },
        "id": "ppl3nhWdEyvA",
        "outputId": "c0f8873b-d4fe-4ba5-81ce-eefec8ac5a6b"
      },
      "execution_count": 61,
      "outputs": [
        {
          "output_type": "execute_result",
          "data": {
            "text/plain": [
              "57"
            ]
          },
          "metadata": {},
          "execution_count": 61
        }
      ]
    },
    {
      "cell_type": "markdown",
      "source": [
        "Step 4: Calculate the probability it rain more than 500 mm in July and it flooded that year"
      ],
      "metadata": {
        "id": "szrxPR6AEuBd"
      }
    },
    {
      "cell_type": "code",
      "source": [
        "prob_rain_flooded = rain_flooded_count / x_size\n",
        "prob_rain_flooded"
      ],
      "metadata": {
        "colab": {
          "base_uri": "https://localhost:8080/"
        },
        "id": "PsRcWhJBEz2A",
        "outputId": "eaf3c37f-f4a0-4a27-beb3-8e070c0e0ddd"
      },
      "execution_count": 62,
      "outputs": [
        {
          "output_type": "execute_result",
          "data": {
            "text/plain": [
              "0.4830508474576271"
            ]
          },
          "metadata": {},
          "execution_count": 62
        }
      ]
    },
    {
      "cell_type": "markdown",
      "source": [
        "Step 5: Calculate the probability that it rain more than 500 mm in July given it flooded that year"
      ],
      "metadata": {
        "id": "vFdA9OLdEukd"
      }
    },
    {
      "cell_type": "code",
      "source": [
        "prob_rain_given_flooded = prob_rain_flooded / prob_flooded\n",
        "prob_rain_given_flooded"
      ],
      "metadata": {
        "colab": {
          "base_uri": "https://localhost:8080/"
        },
        "id": "Y1uYpCJQE0aQ",
        "outputId": "3a48d24b-4b1c-46d2-af0c-0a87a6812108"
      },
      "execution_count": 63,
      "outputs": [
        {
          "output_type": "execute_result",
          "data": {
            "text/plain": [
              "0.9500000000000001"
            ]
          },
          "metadata": {},
          "execution_count": 63
        }
      ]
    },
    {
      "cell_type": "markdown",
      "source": [
        "**Problem Statement 4**: Write a Python program to load the wine dataset using the Sklearn library to a DataFrame and perform the following tasks from 1-3:"
      ],
      "metadata": {
        "id": "IMrWwDNNaYjq"
      }
    },
    {
      "cell_type": "markdown",
      "source": [
        "Step 1: install scikit-learn (sklearn) library and import the load_wine dataset object"
      ],
      "metadata": {
        "id": "z5IHb5n7mFSa"
      }
    },
    {
      "cell_type": "code",
      "source": [
        "# Install sklearn library\n",
        "!pip install sklearn\n",
        "\n",
        "# Import load wine from sklearn.datasets module\n",
        "from sklearn.datasets import load_wine"
      ],
      "metadata": {
        "colab": {
          "base_uri": "https://localhost:8080/"
        },
        "id": "BkANblQrmtzO",
        "outputId": "e998be03-a5db-48b8-ddc8-a9ec663999ee"
      },
      "execution_count": 64,
      "outputs": [
        {
          "output_type": "stream",
          "name": "stdout",
          "text": [
            "Requirement already satisfied: sklearn in /usr/local/lib/python3.10/dist-packages (0.0.post7)\n"
          ]
        }
      ]
    },
    {
      "cell_type": "markdown",
      "source": [
        "Step 2: Load the wine data set"
      ],
      "metadata": {
        "id": "ejzNFs_ontwt"
      }
    },
    {
      "cell_type": "code",
      "source": [
        "wine_data = load_wine()"
      ],
      "metadata": {
        "id": "_70eLIX2oEXp"
      },
      "execution_count": 65,
      "outputs": []
    },
    {
      "cell_type": "markdown",
      "source": [
        "**1.** Convert the data set into Data Frame using pandas."
      ],
      "metadata": {
        "id": "T7LTJurdri9o"
      }
    },
    {
      "cell_type": "code",
      "source": [
        "import pandas as pd\n",
        "df = pd.DataFrame(data = wine_data.data,columns=wine_data.feature_names)\n",
        "# df['target'] = wine_data.target\n",
        "df.head()"
      ],
      "metadata": {
        "colab": {
          "base_uri": "https://localhost:8080/"
        },
        "id": "wS6jTPgurq2P",
        "outputId": "d9f365d0-5d39-4015-d521-d0b0af929fc0"
      },
      "execution_count": 66,
      "outputs": [
        {
          "output_type": "execute_result",
          "data": {
            "text/plain": [
              "alcohol                         178\n",
              "malic_acid                      178\n",
              "ash                             178\n",
              "alcalinity_of_ash               178\n",
              "magnesium                       178\n",
              "total_phenols                   178\n",
              "flavanoids                      178\n",
              "nonflavanoid_phenols            178\n",
              "proanthocyanins                 178\n",
              "color_intensity                 178\n",
              "hue                             178\n",
              "od280/od315_of_diluted_wines    178\n",
              "proline                         178\n",
              "dtype: int64"
            ]
          },
          "metadata": {},
          "execution_count": 66
        }
      ]
    },
    {
      "cell_type": "markdown",
      "source": [
        "**2.** Generate the sample size of 50 and give a random state as 100."
      ],
      "metadata": {
        "id": "pnEkGiS-rs5E"
      }
    },
    {
      "cell_type": "code",
      "source": [
        "import numpy as np\n",
        "\n",
        "# Set the random seed for reproducibility\n",
        "np.random.seed(100)\n",
        "\n",
        "# Generate a sample of size 50 from the DataFrame\n",
        "sample_size = 50\n",
        "rand_sample = df.sample(sample_size)\n",
        "\n",
        "rand_sample.head()\n"
      ],
      "metadata": {
        "colab": {
          "base_uri": "https://localhost:8080/"
        },
        "id": "JRCDBWsV4RRA",
        "outputId": "4dcca76f-e47b-4004-c334-c7c2ea7474fe"
      },
      "execution_count": 67,
      "outputs": [
        {
          "output_type": "stream",
          "name": "stdout",
          "text": [
            "alcohol                         50\n",
            "malic_acid                      50\n",
            "ash                             50\n",
            "alcalinity_of_ash               50\n",
            "magnesium                       50\n",
            "total_phenols                   50\n",
            "flavanoids                      50\n",
            "nonflavanoid_phenols            50\n",
            "proanthocyanins                 50\n",
            "color_intensity                 50\n",
            "hue                             50\n",
            "od280/od315_of_diluted_wines    50\n",
            "proline                         50\n",
            "dtype: int64\n"
          ]
        }
      ]
    },
    {
      "cell_type": "markdown",
      "source": [
        "**3.** Calculate Z-critical, Margin of Error,andConfidence Interval for alcohol at 95% significance interval on generated sample data."
      ],
      "metadata": {
        "id": "0Ye67rKQsco0"
      }
    },
    {
      "cell_type": "markdown",
      "source": [
        "Step 1: Calculate the one tailored Z-critical value for alcohol at 95% significance interval on generated sample data"
      ],
      "metadata": {
        "id": "5UBkIGQCC8vo"
      }
    },
    {
      "cell_type": "code",
      "source": [
        "import scipy.stats as stats\n",
        "\n",
        "z_critical_value = stats.norm.ppf(1-(1-0.95))\n",
        "z_critical_value"
      ],
      "metadata": {
        "colab": {
          "base_uri": "https://localhost:8080/"
        },
        "id": "nBfJ7A_8EVCr",
        "outputId": "97a07549-7e0d-4e1f-ffad-95fe1196014b"
      },
      "execution_count": 68,
      "outputs": [
        {
          "output_type": "execute_result",
          "data": {
            "text/plain": [
              "1.6448536269514722"
            ]
          },
          "metadata": {},
          "execution_count": 68
        }
      ]
    },
    {
      "cell_type": "markdown",
      "source": [
        "Step 2: Calculate the Margin of Error for alcohol at 95% significance interval on generated sample dataon generated sample data"
      ],
      "metadata": {
        "id": "kVnE1aMHC9g-"
      }
    },
    {
      "cell_type": "code",
      "source": [
        "# import math sqrt function\n",
        "from math import sqrt\n",
        "\n",
        "# Calculate the mean and standard deviation of the alcohol\n",
        "sample_mean = rand_sample['alcohol'].mean()\n",
        "population_std = rand_sample['alcohol'].std()\n",
        "\n",
        "\n",
        "\n",
        "# calculate the standard Error of the alcohol\n",
        "sample_standard_error = population_std/sqrt(sample_size)\n",
        "print(\"f sample_standard_error:  {sample_standard_error}\")\n",
        "\n",
        "# Calculate the margin of error of alcohol at 95% confidence interval\n",
        "margin_of_error = z_critical_value * sample_standard_error\n",
        "margin_of_error"
      ],
      "metadata": {
        "colab": {
          "base_uri": "https://localhost:8080/"
        },
        "id": "HwezJpTvEWae",
        "outputId": "3432cce9-4477-46b4-c1a2-b963283c218a"
      },
      "execution_count": 69,
      "outputs": [
        {
          "output_type": "stream",
          "name": "stdout",
          "text": [
            "f sample_standard_error:  {sample_standard_error}\n"
          ]
        },
        {
          "output_type": "execute_result",
          "data": {
            "text/plain": [
              "0.17880519784197366"
            ]
          },
          "metadata": {},
          "execution_count": 69
        }
      ]
    },
    {
      "cell_type": "markdown",
      "source": [
        "Step 3: Calculate Confidence Interval for alcohol at 95% significance interval on generated sample data"
      ],
      "metadata": {
        "id": "UThBSz_dC_Fm"
      }
    },
    {
      "cell_type": "code",
      "source": [
        "confidence_interval = f\"{sample_mean - margin_of_error}, {sample_mean + margin_of_error}\"\n",
        "confidence_interval"
      ],
      "metadata": {
        "id": "KwHcrx6XEXzi",
        "colab": {
          "base_uri": "https://localhost:8080/",
          "height": 36
        },
        "outputId": "64ffb447-333d-4214-84e0-9f1f3a877610"
      },
      "execution_count": 70,
      "outputs": [
        {
          "output_type": "execute_result",
          "data": {
            "text/plain": [
              "'12.794794802158025, 13.152405197841974'"
            ],
            "application/vnd.google.colaboratory.intrinsic+json": {
              "type": "string"
            }
          },
          "metadata": {},
          "execution_count": 70
        }
      ]
    }
  ]
}