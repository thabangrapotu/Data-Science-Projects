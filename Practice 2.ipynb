{
  "nbformat": 4,
  "nbformat_minor": 0,
  "metadata": {
    "colab": {
      "provenance": [],
      "authorship_tag": "ABX9TyPcSxbh3902e4IKxjaE/313"
    },
    "kernelspec": {
      "name": "python3",
      "display_name": "Python 3"
    },
    "language_info": {
      "name": "python"
    }
  },
  "cells": [
    {
      "cell_type": "markdown",
      "source": [
        "# Problem Statement-1 Solution\n",
        " Samantha has created a dataset named 'top50spotify.csv' of her top 50\n",
        "songs from spotify.\n",
        "Dataset Description:\n",
        "top50spotify.csv - The dataset contains 14 features. Here's a brief description of a few columns\n",
        "in the dataset:\n",
        "• SerialNo. - Serial number of songs\n",
        "• Track.Name - Name of the track\n",
        "• Artist.Name - Name of the artist\n",
        "• Genre - Genre of the song\n",
        "• Energy - Energy index of the song\n",
        "• Length. - Length of the song\n",
        "• Popularity - Popularity index of the song\n",
        "Tasks to be performed:\n",
        "1. Import the dataset as a DataFrame and drop the first column.\n",
        "2. Save it as 'top50.csv'.\n",
        "3. Find the average Energy and Length of first 10 songs.\n",
        "4. Find the total length of songs, group by genre from top to bottom.\n",
        "5. Print the artist name with the most number of tracks in one genre. (Hint: Group by artist\n",
        "name and genre)\n",
        "6. Print the data of the tracks created by the artist from the previous question.\n",
        "Note: Fetch and download the dataset using the following link\n",
        "https://www.dropbox.com/s/2hg67jin2n852mz/top50spotify.csv\n"
      ],
      "metadata": {
        "id": "yfiFuoS0Cneo"
      }
    },
    {
      "cell_type": "code",
      "source": [
        "# Step 0: Import the required libraries\n",
        "import pandas as pd  # pandas library for working with data frames\n",
        "import requests      # requests library for downloading files\n",
        "from io import StringIO # StringIO library for working with in-memory text data\n",
        "import os\n",
        "\n",
        "# Step1: Import the dataset as a DataFrame and drop the first column\n",
        "\n",
        "url = 'https://www.dropbox.com/s/2hg67jin2n852mz/top50spotify.csv?dl=1' # Define a variable to store the URL of the CSV file\n",
        "response = requests.get(url)              # download the file from Dropbox\n",
        "csv_data = StringIO(response.text)        # create a StringIO object containing the file's contents\n",
        "\n",
        "df = pd.read_csv(csv_data)  # Use the pd.read_csv() function to load the CSV file from the URL into a pandas DataFrame object\n",
        "\n",
        "folder_path = '/content/'  # Set the path of the folder to contain the download of top50spotify.csv file\n",
        "\n",
        "df = df.drop(df.columns[0], axis = 1)  # Drop the data frame first column\n",
        "\n",
        "# Step2: Save the data frame as 'top50.csv'\n",
        "\n",
        "df.to_csv(os.path.join(folder_path,'top50.csv'))  # Save the data frame to a new csv file 'top50.csv'\n",
        "\n",
        "file_path =  os.path.join(folder_path,'top50.csv')\n",
        "df = pd.read_csv(file_path)  # Import the new dataset as a DataFrame\n",
        "\n",
        "# Step3: Find the average Energy and Length of first 10 songs\n",
        "\n",
        "column_name = 'Energy'\n",
        "av_energy = df[column_name].iloc[:10].mean()   # Find the average Energy of first 10 songs\n",
        "\n",
        "column_name = 'Length.'\n",
        "av_length = df[column_name].iloc[:10].mean()  # Find the average Length of first 10 songs\n",
        "\n",
        "# Step4: Find the total length of songs, group by genre from top to bottom\n",
        "\n",
        "grouped = df.groupby('Genre') # Group the DataFrame by a column 'Genre'\n",
        "\n",
        "songs_total = grouped['Length.'].sum()   # Calculate the total munber of songs per 'Genre' column\n",
        "\n",
        "genre_total = songs_total.sort_values(ascending=False)   # Sort the column 'Genre' by the total number of songs from top to bottom\n",
        "\n",
        "# Step5: Print the artist name with the most number of tracks in one genre\n",
        "\n",
        "artist_name = 'Artist.Name'\n",
        "genre_name = 'Genre'\n",
        "track_name= 'Track.Number'\n",
        "\n",
        "artist_genre_counts =df.groupby([artist_name,genre_name]).size().reset_index(name=track_name)  # Group by artist name and genre, count the number of tracks\n",
        "\n",
        "max_artists_by_genre = artist_genre_counts.loc[artist_genre_counts.groupby(genre_name)[track_name].idxmax()]   # Get the artist with the most tracks in each genre\n",
        "\n",
        "max_artist_overall = max_artists_by_genre.loc[max_artists_by_genre[track_name].idxmax()]  # Get the overall artist with the most tracks across all genres\n",
        "\n",
        "# Step6: Print the artist name with the most tracks in one genre\n",
        "print(f\"The artist with the most tracks in one genre is {max_artist_overall[artist_name]} with {max_artist_overall[track_name]} tracks.\")\n",
        "\n",
        "\n",
        "# Print the data of the tracks created by the artist from the previous question\n",
        "\n",
        "  # Filter the tracks by the artist name with the most tracks\n",
        "max_artist_tracks = df.loc[df[artist_name] == max_artist_overall[artist_name]]\n",
        "\n",
        "  # Print the data of the tracks created by the artist with the most tracks in one genre\n",
        "print(f\"The tracks created by {max_artist_overall[artist_name]} are:\\n\")\n",
        "print(max_artist_tracks.to_string(index=False))\n"
      ],
      "metadata": {
        "id": "nsep9uxLCjqa"
      },
      "execution_count": null,
      "outputs": []
    },
    {
      "cell_type": "markdown",
      "source": [
        "# Problem Statement-2 Solution\n",
        "Write a Python program to perform the following tasks1.Create a pandas series from the below dictionary where indices are subjects:\n",
        "{'English':{'Sam':60,'Jackson':74,'Ahree':85},\n",
        "'History':{'Gloria':83,'Sam':65,'Isla':78,'Aron':72,'Gray':61},'Geography':{'Jackson':92,'Gloria':95,'Isla':82,'Aron':75,'Ahree':76},'Mathematics':{'Sam':99,'Gloria':74,'Jackson':89,'Ahree':85,'Gray':95},'Science':{'Sam':89,'Aron':82,'Gray':78,'Isla':93,'Ahree':87}}\n",
        "2.Convert the created series into DataFrame and replace the null values with zeroes.\n",
        "3.Transpose the DataFrame and create a new column 'Average' and fill the values in it by\n",
        "calculating the average of all subjects"
      ],
      "metadata": {
        "id": "HXWZKW2yS-jb"
      }
    },
    {
      "cell_type": "code",
      "source": [
        "# Step 0: Insatll and import required libraries\n",
        "import pandas as pd # library used for converting a dictionary to dictionary\n",
        "\n",
        "# Step 1: Create a dictionary of subjects -- student name and scores\n",
        "grades_dict = {'English':{'Sam':60, 'Jackson':74, 'Ahree':85},\n",
        "       'History':{'Gloria':83, 'Sam':65 , 'Isla':78, 'Aron':72, 'Gray':61},\n",
        "       'Geography':{'Jackson':92, 'Gloria':95, 'Isla':82 ,  'Aron':75 ,'Ahree':76},\n",
        "       'Mathematics':{'Sam':99,'Gloria':74,'Jackson':89,'Ahree':85,'Gray':95},\n",
        "       'Science':{'Sam':89,'Aron':82,'Gray':78,'Isla':93,'Ahree':87}\n",
        "       }\n",
        "\n",
        "# Step 2: Create series for each subject\n",
        "s = pd.Series()\n",
        "engl_grd_series = pd.Series(grades_dict['English'], name = 'English')\n",
        "hist_grd_series = pd.Series(grades_dict['History'], name = 'History')\n",
        "geo_grd_series = pd.Series(grades_dict['Geography'], name = 'geography')\n",
        "math_grd_series = pd.Series(grades_dict['Mathematics'], name = 'Mathematics')\n",
        "sci_grd_series = pd.Series(grades_dict['Science'], name = 'Science')\n",
        "\n",
        "# Convert the series to a data frame\n",
        "df = pd.DataFrame({'English':engl_grd_series, 'History':hist_grd_series, 'Geography':geo_grd_series, 'Mathematics':math_grd_series, 'Science':sci_grd_series})\n",
        "# Repalce null values in the data frame with the zero value\n",
        "df.fillna(0, inplace = True)\n",
        "# Transose the data frame\n",
        "df = df.transpose()\n",
        "# Add average column with average values for each subject in the transposed data frame\n",
        "df['Average'] = df.mean(axis=1)"
      ],
      "metadata": {
        "colab": {
          "base_uri": "https://localhost:8080/"
        },
        "id": "J-dqmVHoS4Q5",
        "outputId": "2c72e4ee-9c3a-4f2e-bbc6-1efd8b5bcc25"
      },
      "execution_count": null,
      "outputs": [
        {
          "output_type": "stream",
          "name": "stderr",
          "text": [
            "<ipython-input-6-476a2513d03e>:13: FutureWarning: The default dtype for empty Series will be 'object' instead of 'float64' in a future version. Specify a dtype explicitly to silence this warning.\n",
            "  s = pd.Series()\n"
          ]
        }
      ]
    },
    {
      "cell_type": "markdown",
      "source": [
        "# Problem Statement-3 Solution\n",
        "Write a Python program to create a series from 1 to 1000 and select only numbers divisible by 7 and 17."
      ],
      "metadata": {
        "id": "t7TB7w0sGF8_"
      }
    },
    {
      "cell_type": "code",
      "source": [
        "from numpy import append\n",
        "# Import pandas library\n",
        "import pandas as pd\n",
        "\n",
        "# Create a pandas series that range from 1 t0 1001\n",
        "s = pd.Series(range(1,1001))\n",
        "\n",
        "# filter the panda series\n",
        "s_filtered = s[(s%7 == 0) & (s%17 == 0)]\n",
        "\n",
        "# Print filtered series\n",
        "# print(s_filtered)\n",
        "\n",
        "\n"
      ],
      "metadata": {
        "id": "P7TCOcnmFsdn"
      },
      "execution_count": null,
      "outputs": []
    },
    {
      "cell_type": "markdown",
      "source": [],
      "metadata": {
        "id": "miLfTjTuUp9M"
      }
    },
    {
      "cell_type": "markdown",
      "source": [
        "# Problem Statement-4 Solution\n",
        "Sylphia has a dataset of various cereals sold in the supermarket.\n",
        "Dataset Description:\n",
        "cereal.csv - The dataset contains 16 features. Here's a brief description of 3 columns in the\n",
        "dataset:\n",
        "• name - Brand name of the cereals\n",
        "• MFR - Manufacturer of the brands\n",
        "• rating - Rating of the cereals\n",
        "Syliphia wants to visualize the quality of cereals and determine which manufacturer delivers\n",
        "the best quality.\n",
        "Tasks to be performed:\n",
        "1. Import the dataset.\n",
        "2. Plot ratings of different types of manufacturers.\n",
        "3. Use xticks range form 0-100.\n",
        "4. Change the style of the graph to seaborn\n",
        "Note: Fetch and download the dataset using the following link\n",
        "https://www.dropbox.com/s/idnul34dfo5cnke/cereal.csv"
      ],
      "metadata": {
        "id": "g9-hAaYmVTn3"
      }
    },
    {
      "cell_type": "code",
      "source": [
        "from requests.models import Response\n",
        "# Import modules, class of differnt libraries\n",
        "import pandas as pd\n",
        "import requests\n",
        "from io import StringIO\n",
        "!pip install matplotlib\n",
        "import matplotlib.pyplot as plt\n",
        "import numpy as np\n",
        "import seaborn as sns\n",
        "\n",
        "\n",
        "\n",
        "# Create the file link\n",
        "url = 'https://www.dropbox.com/s/idnul34dfo5cnke/cereal.csv?dl=1'\n",
        "\n",
        "# Get the content of the file from file URL\n",
        "response = requests.get(url)\n",
        "# create a file that copy ontent of downloaded file\n",
        "csv_data = StringIO(response.text)\n",
        "print(csv_data)\n",
        "\n",
        "df = pd.read_csv(csv_data);\n",
        "\n",
        "# Create a line plot of manufacturer vs ratings\n",
        "plt.plot(df['rating'],df['mfr'])\n",
        "\n",
        "# Add axis label and tittle to the line plot\n",
        "plt.xlabel('ratings')\n",
        "plt.ylabel('manufacture')\n",
        "plt.title('Ratings vs Manufacture')\n",
        "\n",
        "# Add xticks to the line plot\n",
        "plt.xticks(np.arange(0,101,10))\n",
        "\n",
        "# Change style of the plot to seaborn style\n",
        "sns.set(style = 'ticks')\n",
        "\n",
        "# Display the line plot\n",
        "# plt.show()\n",
        "\n",
        "\n",
        "\n",
        "\n"
      ],
      "metadata": {
        "id": "PsYREXr1Uorv"
      },
      "execution_count": null,
      "outputs": []
    }
  ]
}